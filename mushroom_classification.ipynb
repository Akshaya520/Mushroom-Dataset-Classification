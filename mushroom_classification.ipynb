{
 "cells": [
  {
   "cell_type": "markdown",
   "metadata": {
    "id": "q5zPZP710o_G"
   },
   "source": [
    "## Imports"
   ]
  },
  {
   "cell_type": "code",
   "execution_count": 1,
   "metadata": {
    "execution": {
     "iopub.execute_input": "2022-06-25T12:00:39.980874Z",
     "iopub.status.busy": "2022-06-25T12:00:39.980239Z",
     "iopub.status.idle": "2022-06-25T12:00:49.168872Z",
     "shell.execute_reply": "2022-06-25T12:00:49.167759Z",
     "shell.execute_reply.started": "2022-06-25T12:00:39.980741Z"
    },
    "id": "ASI7puq2RyiH"
   },
   "outputs": [],
   "source": [
    "# Importing required libraries.\n",
    "import random\n",
    "\n",
    "import matplotlib.pyplot as plt\n",
    "import numpy as np\n",
    "import pandas as pd\n",
    "import tensorflow as tf\n",
    "from matplotlib import font_manager as fm\n",
    "from sklearn import ensemble as ens\n",
    "from sklearn import feature_selection as fs\n",
    "from sklearn import linear_model as lm\n",
    "from sklearn import naive_bayes as nb\n",
    "from sklearn import preprocessing as pp\n",
    "from sklearn import svm\n",
    "from sklearn.metrics import (ConfusionMatrixDisplay, accuracy_score,\n",
    "                             classification_report, confusion_matrix)\n",
    "from sklearn.model_selection import train_test_split"
   ]
  },
  {
   "cell_type": "code",
   "execution_count": 2,
   "metadata": {
    "execution": {
     "iopub.execute_input": "2022-06-25T12:00:49.171444Z",
     "iopub.status.busy": "2022-06-25T12:00:49.170807Z",
     "iopub.status.idle": "2022-06-25T12:00:49.178452Z",
     "shell.execute_reply": "2022-06-25T12:00:49.177691Z",
     "shell.execute_reply.started": "2022-06-25T12:00:49.171415Z"
    },
    "id": "MjX4QWX_yeru"
   },
   "outputs": [],
   "source": [
    "# Make the random numbers predictable.\n",
    "random.seed(42)\n",
    "np.random.seed(42)\n",
    "tf.random.set_seed(42)"
   ]
  },
  {
   "cell_type": "markdown",
   "metadata": {
    "id": "46OsPbn_0tR7"
   },
   "source": [
    "## Load and visualize data"
   ]
  },
  {
   "cell_type": "code",
   "execution_count": 3,
   "metadata": {
    "colab": {
     "base_uri": "https://localhost:8080/",
     "height": 352
    },
    "execution": {
     "iopub.execute_input": "2022-06-25T12:00:49.179929Z",
     "iopub.status.busy": "2022-06-25T12:00:49.179461Z",
     "iopub.status.idle": "2022-06-25T12:00:49.354529Z",
     "shell.execute_reply": "2022-06-25T12:00:49.353473Z",
     "shell.execute_reply.started": "2022-06-25T12:00:49.179899Z"
    },
    "id": "uv97js4sSC7L",
    "outputId": "60e97a67-f3c8-47f0-ba24-4bf9e1457cb4"
   },
   "outputs": [
    {
     "data": {
      "text/html": [
       "\n",
       "  <div id=\"df-09dd0599-a141-4cc1-80bc-1fff284c27d2\">\n",
       "    <div class=\"colab-df-container\">\n",
       "      <div>\n",
       "<style scoped>\n",
       "    .dataframe tbody tr th:only-of-type {\n",
       "        vertical-align: middle;\n",
       "    }\n",
       "\n",
       "    .dataframe tbody tr th {\n",
       "        vertical-align: top;\n",
       "    }\n",
       "\n",
       "    .dataframe thead th {\n",
       "        text-align: right;\n",
       "    }\n",
       "</style>\n",
       "<table border=\"1\" class=\"dataframe\">\n",
       "  <thead>\n",
       "    <tr style=\"text-align: right;\">\n",
       "      <th></th>\n",
       "      <th>class</th>\n",
       "      <th>cap-shape</th>\n",
       "      <th>cap-surface</th>\n",
       "      <th>cap-color</th>\n",
       "      <th>bruises</th>\n",
       "      <th>odor</th>\n",
       "      <th>gill-attachment</th>\n",
       "      <th>gill-spacing</th>\n",
       "      <th>gill-size</th>\n",
       "      <th>gill-color</th>\n",
       "      <th>...</th>\n",
       "      <th>stalk-surface-below-ring</th>\n",
       "      <th>stalk-color-above-ring</th>\n",
       "      <th>stalk-color-below-ring</th>\n",
       "      <th>veil-type</th>\n",
       "      <th>veil-color</th>\n",
       "      <th>ring-number</th>\n",
       "      <th>ring-type</th>\n",
       "      <th>spore-print-color</th>\n",
       "      <th>population</th>\n",
       "      <th>habitat</th>\n",
       "    </tr>\n",
       "  </thead>\n",
       "  <tbody>\n",
       "    <tr>\n",
       "      <th>0</th>\n",
       "      <td>p</td>\n",
       "      <td>x</td>\n",
       "      <td>s</td>\n",
       "      <td>n</td>\n",
       "      <td>t</td>\n",
       "      <td>p</td>\n",
       "      <td>f</td>\n",
       "      <td>c</td>\n",
       "      <td>n</td>\n",
       "      <td>k</td>\n",
       "      <td>...</td>\n",
       "      <td>s</td>\n",
       "      <td>w</td>\n",
       "      <td>w</td>\n",
       "      <td>p</td>\n",
       "      <td>w</td>\n",
       "      <td>o</td>\n",
       "      <td>p</td>\n",
       "      <td>k</td>\n",
       "      <td>s</td>\n",
       "      <td>u</td>\n",
       "    </tr>\n",
       "    <tr>\n",
       "      <th>1</th>\n",
       "      <td>e</td>\n",
       "      <td>x</td>\n",
       "      <td>s</td>\n",
       "      <td>y</td>\n",
       "      <td>t</td>\n",
       "      <td>a</td>\n",
       "      <td>f</td>\n",
       "      <td>c</td>\n",
       "      <td>b</td>\n",
       "      <td>k</td>\n",
       "      <td>...</td>\n",
       "      <td>s</td>\n",
       "      <td>w</td>\n",
       "      <td>w</td>\n",
       "      <td>p</td>\n",
       "      <td>w</td>\n",
       "      <td>o</td>\n",
       "      <td>p</td>\n",
       "      <td>n</td>\n",
       "      <td>n</td>\n",
       "      <td>g</td>\n",
       "    </tr>\n",
       "    <tr>\n",
       "      <th>2</th>\n",
       "      <td>e</td>\n",
       "      <td>b</td>\n",
       "      <td>s</td>\n",
       "      <td>w</td>\n",
       "      <td>t</td>\n",
       "      <td>l</td>\n",
       "      <td>f</td>\n",
       "      <td>c</td>\n",
       "      <td>b</td>\n",
       "      <td>n</td>\n",
       "      <td>...</td>\n",
       "      <td>s</td>\n",
       "      <td>w</td>\n",
       "      <td>w</td>\n",
       "      <td>p</td>\n",
       "      <td>w</td>\n",
       "      <td>o</td>\n",
       "      <td>p</td>\n",
       "      <td>n</td>\n",
       "      <td>n</td>\n",
       "      <td>m</td>\n",
       "    </tr>\n",
       "    <tr>\n",
       "      <th>3</th>\n",
       "      <td>p</td>\n",
       "      <td>x</td>\n",
       "      <td>y</td>\n",
       "      <td>w</td>\n",
       "      <td>t</td>\n",
       "      <td>p</td>\n",
       "      <td>f</td>\n",
       "      <td>c</td>\n",
       "      <td>n</td>\n",
       "      <td>n</td>\n",
       "      <td>...</td>\n",
       "      <td>s</td>\n",
       "      <td>w</td>\n",
       "      <td>w</td>\n",
       "      <td>p</td>\n",
       "      <td>w</td>\n",
       "      <td>o</td>\n",
       "      <td>p</td>\n",
       "      <td>k</td>\n",
       "      <td>s</td>\n",
       "      <td>u</td>\n",
       "    </tr>\n",
       "    <tr>\n",
       "      <th>4</th>\n",
       "      <td>e</td>\n",
       "      <td>x</td>\n",
       "      <td>s</td>\n",
       "      <td>g</td>\n",
       "      <td>f</td>\n",
       "      <td>n</td>\n",
       "      <td>f</td>\n",
       "      <td>w</td>\n",
       "      <td>b</td>\n",
       "      <td>k</td>\n",
       "      <td>...</td>\n",
       "      <td>s</td>\n",
       "      <td>w</td>\n",
       "      <td>w</td>\n",
       "      <td>p</td>\n",
       "      <td>w</td>\n",
       "      <td>o</td>\n",
       "      <td>e</td>\n",
       "      <td>n</td>\n",
       "      <td>a</td>\n",
       "      <td>g</td>\n",
       "    </tr>\n",
       "  </tbody>\n",
       "</table>\n",
       "<p>5 rows × 23 columns</p>\n",
       "</div>\n",
       "      <button class=\"colab-df-convert\" onclick=\"convertToInteractive('df-09dd0599-a141-4cc1-80bc-1fff284c27d2')\"\n",
       "              title=\"Convert this dataframe to an interactive table.\"\n",
       "              style=\"display:none;\">\n",
       "        \n",
       "  <svg xmlns=\"http://www.w3.org/2000/svg\" height=\"24px\"viewBox=\"0 0 24 24\"\n",
       "       width=\"24px\">\n",
       "    <path d=\"M0 0h24v24H0V0z\" fill=\"none\"/>\n",
       "    <path d=\"M18.56 5.44l.94 2.06.94-2.06 2.06-.94-2.06-.94-.94-2.06-.94 2.06-2.06.94zm-11 1L8.5 8.5l.94-2.06 2.06-.94-2.06-.94L8.5 2.5l-.94 2.06-2.06.94zm10 10l.94 2.06.94-2.06 2.06-.94-2.06-.94-.94-2.06-.94 2.06-2.06.94z\"/><path d=\"M17.41 7.96l-1.37-1.37c-.4-.4-.92-.59-1.43-.59-.52 0-1.04.2-1.43.59L10.3 9.45l-7.72 7.72c-.78.78-.78 2.05 0 2.83L4 21.41c.39.39.9.59 1.41.59.51 0 1.02-.2 1.41-.59l7.78-7.78 2.81-2.81c.8-.78.8-2.07 0-2.86zM5.41 20L4 18.59l7.72-7.72 1.47 1.35L5.41 20z\"/>\n",
       "  </svg>\n",
       "      </button>\n",
       "      \n",
       "  <style>\n",
       "    .colab-df-container {\n",
       "      display:flex;\n",
       "      flex-wrap:wrap;\n",
       "      gap: 12px;\n",
       "    }\n",
       "\n",
       "    .colab-df-convert {\n",
       "      background-color: #E8F0FE;\n",
       "      border: none;\n",
       "      border-radius: 50%;\n",
       "      cursor: pointer;\n",
       "      display: none;\n",
       "      fill: #1967D2;\n",
       "      height: 32px;\n",
       "      padding: 0 0 0 0;\n",
       "      width: 32px;\n",
       "    }\n",
       "\n",
       "    .colab-df-convert:hover {\n",
       "      background-color: #E2EBFA;\n",
       "      box-shadow: 0px 1px 2px rgba(60, 64, 67, 0.3), 0px 1px 3px 1px rgba(60, 64, 67, 0.15);\n",
       "      fill: #174EA6;\n",
       "    }\n",
       "\n",
       "    [theme=dark] .colab-df-convert {\n",
       "      background-color: #3B4455;\n",
       "      fill: #D2E3FC;\n",
       "    }\n",
       "\n",
       "    [theme=dark] .colab-df-convert:hover {\n",
       "      background-color: #434B5C;\n",
       "      box-shadow: 0px 1px 3px 1px rgba(0, 0, 0, 0.15);\n",
       "      filter: drop-shadow(0px 1px 2px rgba(0, 0, 0, 0.3));\n",
       "      fill: #FFFFFF;\n",
       "    }\n",
       "  </style>\n",
       "\n",
       "      <script>\n",
       "        const buttonEl =\n",
       "          document.querySelector('#df-09dd0599-a141-4cc1-80bc-1fff284c27d2 button.colab-df-convert');\n",
       "        buttonEl.style.display =\n",
       "          google.colab.kernel.accessAllowed ? 'block' : 'none';\n",
       "\n",
       "        async function convertToInteractive(key) {\n",
       "          const element = document.querySelector('#df-09dd0599-a141-4cc1-80bc-1fff284c27d2');\n",
       "          const dataTable =\n",
       "            await google.colab.kernel.invokeFunction('convertToInteractive',\n",
       "                                                     [key], {});\n",
       "          if (!dataTable) return;\n",
       "\n",
       "          const docLinkHtml = 'Like what you see? Visit the ' +\n",
       "            '<a target=\"_blank\" href=https://colab.research.google.com/notebooks/data_table.ipynb>data table notebook</a>'\n",
       "            + ' to learn more about interactive tables.';\n",
       "          element.innerHTML = '';\n",
       "          dataTable['output_type'] = 'display_data';\n",
       "          await google.colab.output.renderOutput(dataTable, element);\n",
       "          const docLink = document.createElement('div');\n",
       "          docLink.innerHTML = docLinkHtml;\n",
       "          element.appendChild(docLink);\n",
       "        }\n",
       "      </script>\n",
       "    </div>\n",
       "  </div>\n",
       "  "
      ],
      "text/plain": [
       "  class cap-shape cap-surface cap-color bruises odor gill-attachment  \\\n",
       "0     p         x           s         n       t    p               f   \n",
       "1     e         x           s         y       t    a               f   \n",
       "2     e         b           s         w       t    l               f   \n",
       "3     p         x           y         w       t    p               f   \n",
       "4     e         x           s         g       f    n               f   \n",
       "\n",
       "  gill-spacing gill-size gill-color  ... stalk-surface-below-ring  \\\n",
       "0            c         n          k  ...                        s   \n",
       "1            c         b          k  ...                        s   \n",
       "2            c         b          n  ...                        s   \n",
       "3            c         n          n  ...                        s   \n",
       "4            w         b          k  ...                        s   \n",
       "\n",
       "  stalk-color-above-ring stalk-color-below-ring veil-type veil-color  \\\n",
       "0                      w                      w         p          w   \n",
       "1                      w                      w         p          w   \n",
       "2                      w                      w         p          w   \n",
       "3                      w                      w         p          w   \n",
       "4                      w                      w         p          w   \n",
       "\n",
       "  ring-number ring-type spore-print-color population habitat  \n",
       "0           o         p                 k          s       u  \n",
       "1           o         p                 n          n       g  \n",
       "2           o         p                 n          n       m  \n",
       "3           o         p                 k          s       u  \n",
       "4           o         e                 n          a       g  \n",
       "\n",
       "[5 rows x 23 columns]"
      ]
     },
     "execution_count": 3,
     "metadata": {},
     "output_type": "execute_result"
    }
   ],
   "source": [
    "# Read a csv dataset file into DataFrame.\n",
    "data = pd.read_csv(\"/content/mushrooms.csv\")\n",
    "# Display first 5 rows from dataframe\n",
    "data.head()"
   ]
  },
  {
   "cell_type": "code",
   "execution_count": 4,
   "metadata": {
    "colab": {
     "base_uri": "https://localhost:8080/",
     "height": 320
    },
    "execution": {
     "iopub.execute_input": "2022-06-25T12:00:49.357603Z",
     "iopub.status.busy": "2022-06-25T12:00:49.356904Z",
     "iopub.status.idle": "2022-06-25T12:00:49.458712Z",
     "shell.execute_reply": "2022-06-25T12:00:49.457553Z",
     "shell.execute_reply.started": "2022-06-25T12:00:49.357569Z"
    },
    "id": "2XIB2jIlTAvF",
    "outputId": "22aaf3bc-4c85-463b-81ea-c2ea334cdb63"
   },
   "outputs": [
    {
     "data": {
      "text/html": [
       "\n",
       "  <div id=\"df-0a0a1f44-b8ce-4999-96c9-3b2ceabcb5e3\">\n",
       "    <div class=\"colab-df-container\">\n",
       "      <div>\n",
       "<style scoped>\n",
       "    .dataframe tbody tr th:only-of-type {\n",
       "        vertical-align: middle;\n",
       "    }\n",
       "\n",
       "    .dataframe tbody tr th {\n",
       "        vertical-align: top;\n",
       "    }\n",
       "\n",
       "    .dataframe thead th {\n",
       "        text-align: right;\n",
       "    }\n",
       "</style>\n",
       "<table border=\"1\" class=\"dataframe\">\n",
       "  <thead>\n",
       "    <tr style=\"text-align: right;\">\n",
       "      <th></th>\n",
       "      <th>class</th>\n",
       "      <th>cap-shape</th>\n",
       "      <th>cap-surface</th>\n",
       "      <th>cap-color</th>\n",
       "      <th>bruises</th>\n",
       "      <th>odor</th>\n",
       "      <th>gill-attachment</th>\n",
       "      <th>gill-spacing</th>\n",
       "      <th>gill-size</th>\n",
       "      <th>gill-color</th>\n",
       "      <th>...</th>\n",
       "      <th>stalk-surface-below-ring</th>\n",
       "      <th>stalk-color-above-ring</th>\n",
       "      <th>stalk-color-below-ring</th>\n",
       "      <th>veil-type</th>\n",
       "      <th>veil-color</th>\n",
       "      <th>ring-number</th>\n",
       "      <th>ring-type</th>\n",
       "      <th>spore-print-color</th>\n",
       "      <th>population</th>\n",
       "      <th>habitat</th>\n",
       "    </tr>\n",
       "  </thead>\n",
       "  <tbody>\n",
       "    <tr>\n",
       "      <th>count</th>\n",
       "      <td>8124</td>\n",
       "      <td>8124</td>\n",
       "      <td>8124</td>\n",
       "      <td>8124</td>\n",
       "      <td>8124</td>\n",
       "      <td>8124</td>\n",
       "      <td>8124</td>\n",
       "      <td>8124</td>\n",
       "      <td>8124</td>\n",
       "      <td>8124</td>\n",
       "      <td>...</td>\n",
       "      <td>8124</td>\n",
       "      <td>8124</td>\n",
       "      <td>8124</td>\n",
       "      <td>8124</td>\n",
       "      <td>8124</td>\n",
       "      <td>8124</td>\n",
       "      <td>8124</td>\n",
       "      <td>8124</td>\n",
       "      <td>8124</td>\n",
       "      <td>8124</td>\n",
       "    </tr>\n",
       "    <tr>\n",
       "      <th>unique</th>\n",
       "      <td>2</td>\n",
       "      <td>6</td>\n",
       "      <td>4</td>\n",
       "      <td>10</td>\n",
       "      <td>2</td>\n",
       "      <td>9</td>\n",
       "      <td>2</td>\n",
       "      <td>2</td>\n",
       "      <td>2</td>\n",
       "      <td>12</td>\n",
       "      <td>...</td>\n",
       "      <td>4</td>\n",
       "      <td>9</td>\n",
       "      <td>9</td>\n",
       "      <td>1</td>\n",
       "      <td>4</td>\n",
       "      <td>3</td>\n",
       "      <td>5</td>\n",
       "      <td>9</td>\n",
       "      <td>6</td>\n",
       "      <td>7</td>\n",
       "    </tr>\n",
       "    <tr>\n",
       "      <th>top</th>\n",
       "      <td>e</td>\n",
       "      <td>x</td>\n",
       "      <td>y</td>\n",
       "      <td>n</td>\n",
       "      <td>f</td>\n",
       "      <td>n</td>\n",
       "      <td>f</td>\n",
       "      <td>c</td>\n",
       "      <td>b</td>\n",
       "      <td>b</td>\n",
       "      <td>...</td>\n",
       "      <td>s</td>\n",
       "      <td>w</td>\n",
       "      <td>w</td>\n",
       "      <td>p</td>\n",
       "      <td>w</td>\n",
       "      <td>o</td>\n",
       "      <td>p</td>\n",
       "      <td>w</td>\n",
       "      <td>v</td>\n",
       "      <td>d</td>\n",
       "    </tr>\n",
       "    <tr>\n",
       "      <th>freq</th>\n",
       "      <td>4208</td>\n",
       "      <td>3656</td>\n",
       "      <td>3244</td>\n",
       "      <td>2284</td>\n",
       "      <td>4748</td>\n",
       "      <td>3528</td>\n",
       "      <td>7914</td>\n",
       "      <td>6812</td>\n",
       "      <td>5612</td>\n",
       "      <td>1728</td>\n",
       "      <td>...</td>\n",
       "      <td>4936</td>\n",
       "      <td>4464</td>\n",
       "      <td>4384</td>\n",
       "      <td>8124</td>\n",
       "      <td>7924</td>\n",
       "      <td>7488</td>\n",
       "      <td>3968</td>\n",
       "      <td>2388</td>\n",
       "      <td>4040</td>\n",
       "      <td>3148</td>\n",
       "    </tr>\n",
       "  </tbody>\n",
       "</table>\n",
       "<p>4 rows × 23 columns</p>\n",
       "</div>\n",
       "      <button class=\"colab-df-convert\" onclick=\"convertToInteractive('df-0a0a1f44-b8ce-4999-96c9-3b2ceabcb5e3')\"\n",
       "              title=\"Convert this dataframe to an interactive table.\"\n",
       "              style=\"display:none;\">\n",
       "        \n",
       "  <svg xmlns=\"http://www.w3.org/2000/svg\" height=\"24px\"viewBox=\"0 0 24 24\"\n",
       "       width=\"24px\">\n",
       "    <path d=\"M0 0h24v24H0V0z\" fill=\"none\"/>\n",
       "    <path d=\"M18.56 5.44l.94 2.06.94-2.06 2.06-.94-2.06-.94-.94-2.06-.94 2.06-2.06.94zm-11 1L8.5 8.5l.94-2.06 2.06-.94-2.06-.94L8.5 2.5l-.94 2.06-2.06.94zm10 10l.94 2.06.94-2.06 2.06-.94-2.06-.94-.94-2.06-.94 2.06-2.06.94z\"/><path d=\"M17.41 7.96l-1.37-1.37c-.4-.4-.92-.59-1.43-.59-.52 0-1.04.2-1.43.59L10.3 9.45l-7.72 7.72c-.78.78-.78 2.05 0 2.83L4 21.41c.39.39.9.59 1.41.59.51 0 1.02-.2 1.41-.59l7.78-7.78 2.81-2.81c.8-.78.8-2.07 0-2.86zM5.41 20L4 18.59l7.72-7.72 1.47 1.35L5.41 20z\"/>\n",
       "  </svg>\n",
       "      </button>\n",
       "      \n",
       "  <style>\n",
       "    .colab-df-container {\n",
       "      display:flex;\n",
       "      flex-wrap:wrap;\n",
       "      gap: 12px;\n",
       "    }\n",
       "\n",
       "    .colab-df-convert {\n",
       "      background-color: #E8F0FE;\n",
       "      border: none;\n",
       "      border-radius: 50%;\n",
       "      cursor: pointer;\n",
       "      display: none;\n",
       "      fill: #1967D2;\n",
       "      height: 32px;\n",
       "      padding: 0 0 0 0;\n",
       "      width: 32px;\n",
       "    }\n",
       "\n",
       "    .colab-df-convert:hover {\n",
       "      background-color: #E2EBFA;\n",
       "      box-shadow: 0px 1px 2px rgba(60, 64, 67, 0.3), 0px 1px 3px 1px rgba(60, 64, 67, 0.15);\n",
       "      fill: #174EA6;\n",
       "    }\n",
       "\n",
       "    [theme=dark] .colab-df-convert {\n",
       "      background-color: #3B4455;\n",
       "      fill: #D2E3FC;\n",
       "    }\n",
       "\n",
       "    [theme=dark] .colab-df-convert:hover {\n",
       "      background-color: #434B5C;\n",
       "      box-shadow: 0px 1px 3px 1px rgba(0, 0, 0, 0.15);\n",
       "      filter: drop-shadow(0px 1px 2px rgba(0, 0, 0, 0.3));\n",
       "      fill: #FFFFFF;\n",
       "    }\n",
       "  </style>\n",
       "\n",
       "      <script>\n",
       "        const buttonEl =\n",
       "          document.querySelector('#df-0a0a1f44-b8ce-4999-96c9-3b2ceabcb5e3 button.colab-df-convert');\n",
       "        buttonEl.style.display =\n",
       "          google.colab.kernel.accessAllowed ? 'block' : 'none';\n",
       "\n",
       "        async function convertToInteractive(key) {\n",
       "          const element = document.querySelector('#df-0a0a1f44-b8ce-4999-96c9-3b2ceabcb5e3');\n",
       "          const dataTable =\n",
       "            await google.colab.kernel.invokeFunction('convertToInteractive',\n",
       "                                                     [key], {});\n",
       "          if (!dataTable) return;\n",
       "\n",
       "          const docLinkHtml = 'Like what you see? Visit the ' +\n",
       "            '<a target=\"_blank\" href=https://colab.research.google.com/notebooks/data_table.ipynb>data table notebook</a>'\n",
       "            + ' to learn more about interactive tables.';\n",
       "          element.innerHTML = '';\n",
       "          dataTable['output_type'] = 'display_data';\n",
       "          await google.colab.output.renderOutput(dataTable, element);\n",
       "          const docLink = document.createElement('div');\n",
       "          docLink.innerHTML = docLinkHtml;\n",
       "          element.appendChild(docLink);\n",
       "        }\n",
       "      </script>\n",
       "    </div>\n",
       "  </div>\n",
       "  "
      ],
      "text/plain": [
       "       class cap-shape cap-surface cap-color bruises  odor gill-attachment  \\\n",
       "count   8124      8124        8124      8124    8124  8124            8124   \n",
       "unique     2         6           4        10       2     9               2   \n",
       "top        e         x           y         n       f     n               f   \n",
       "freq    4208      3656        3244      2284    4748  3528            7914   \n",
       "\n",
       "       gill-spacing gill-size gill-color  ... stalk-surface-below-ring  \\\n",
       "count          8124      8124       8124  ...                     8124   \n",
       "unique            2         2         12  ...                        4   \n",
       "top               c         b          b  ...                        s   \n",
       "freq           6812      5612       1728  ...                     4936   \n",
       "\n",
       "       stalk-color-above-ring stalk-color-below-ring veil-type veil-color  \\\n",
       "count                    8124                   8124      8124       8124   \n",
       "unique                      9                      9         1          4   \n",
       "top                         w                      w         p          w   \n",
       "freq                     4464                   4384      8124       7924   \n",
       "\n",
       "       ring-number ring-type spore-print-color population habitat  \n",
       "count         8124      8124              8124       8124    8124  \n",
       "unique           3         5                 9          6       7  \n",
       "top              o         p                 w          v       d  \n",
       "freq          7488      3968              2388       4040    3148  \n",
       "\n",
       "[4 rows x 23 columns]"
      ]
     },
     "execution_count": 4,
     "metadata": {},
     "output_type": "execute_result"
    }
   ],
   "source": [
    "# Display descriptive statistics for the dataset.\n",
    "data.describe()"
   ]
  },
  {
   "cell_type": "code",
   "execution_count": 5,
   "metadata": {
    "colab": {
     "base_uri": "https://localhost:8080/"
    },
    "execution": {
     "iopub.execute_input": "2022-06-25T12:00:49.461046Z",
     "iopub.status.busy": "2022-06-25T12:00:49.460541Z",
     "iopub.status.idle": "2022-06-25T12:00:49.496972Z",
     "shell.execute_reply": "2022-06-25T12:00:49.495707Z",
     "shell.execute_reply.started": "2022-06-25T12:00:49.461000Z"
    },
    "id": "UwDViRQvTHHd",
    "outputId": "39229254-15cd-4b61-bce5-f85c45095236"
   },
   "outputs": [
    {
     "name": "stdout",
     "output_type": "stream",
     "text": [
      "<class 'pandas.core.frame.DataFrame'>\n",
      "RangeIndex: 8124 entries, 0 to 8123\n",
      "Data columns (total 23 columns):\n",
      " #   Column                    Non-Null Count  Dtype \n",
      "---  ------                    --------------  ----- \n",
      " 0   class                     8124 non-null   object\n",
      " 1   cap-shape                 8124 non-null   object\n",
      " 2   cap-surface               8124 non-null   object\n",
      " 3   cap-color                 8124 non-null   object\n",
      " 4   bruises                   8124 non-null   object\n",
      " 5   odor                      8124 non-null   object\n",
      " 6   gill-attachment           8124 non-null   object\n",
      " 7   gill-spacing              8124 non-null   object\n",
      " 8   gill-size                 8124 non-null   object\n",
      " 9   gill-color                8124 non-null   object\n",
      " 10  stalk-shape               8124 non-null   object\n",
      " 11  stalk-root                8124 non-null   object\n",
      " 12  stalk-surface-above-ring  8124 non-null   object\n",
      " 13  stalk-surface-below-ring  8124 non-null   object\n",
      " 14  stalk-color-above-ring    8124 non-null   object\n",
      " 15  stalk-color-below-ring    8124 non-null   object\n",
      " 16  veil-type                 8124 non-null   object\n",
      " 17  veil-color                8124 non-null   object\n",
      " 18  ring-number               8124 non-null   object\n",
      " 19  ring-type                 8124 non-null   object\n",
      " 20  spore-print-color         8124 non-null   object\n",
      " 21  population                8124 non-null   object\n",
      " 22  habitat                   8124 non-null   object\n",
      "dtypes: object(23)\n",
      "memory usage: 1.4+ MB\n"
     ]
    }
   ],
   "source": [
    "#  Print information about the dataset\n",
    "data.info()"
   ]
  },
  {
   "cell_type": "code",
   "execution_count": 6,
   "metadata": {
    "colab": {
     "base_uri": "https://localhost:8080/"
    },
    "execution": {
     "iopub.execute_input": "2022-06-25T12:00:49.499069Z",
     "iopub.status.busy": "2022-06-25T12:00:49.498599Z",
     "iopub.status.idle": "2022-06-25T12:00:49.505209Z",
     "shell.execute_reply": "2022-06-25T12:00:49.504375Z",
     "shell.execute_reply.started": "2022-06-25T12:00:49.499027Z"
    },
    "id": "6rrjPOplSI_p",
    "outputId": "672b0f1f-51d8-4a3d-f7a5-fd03dff06f44"
   },
   "outputs": [
    {
     "data": {
      "text/plain": [
       "(8124, 23)"
      ]
     },
     "execution_count": 6,
     "metadata": {},
     "output_type": "execute_result"
    }
   ],
   "source": [
    "# Print dataset dimensions\n",
    "data.shape"
   ]
  },
  {
   "cell_type": "code",
   "execution_count": 7,
   "metadata": {
    "colab": {
     "base_uri": "https://localhost:8080/"
    },
    "execution": {
     "iopub.execute_input": "2022-06-25T12:00:49.506342Z",
     "iopub.status.busy": "2022-06-25T12:00:49.506061Z",
     "iopub.status.idle": "2022-06-25T12:00:49.517007Z",
     "shell.execute_reply": "2022-06-25T12:00:49.516140Z",
     "shell.execute_reply.started": "2022-06-25T12:00:49.506315Z"
    },
    "id": "j0h9CTmDSW9y",
    "outputId": "31c1850d-57c6-469c-d6f1-4b47cc956937"
   },
   "outputs": [
    {
     "data": {
      "text/plain": [
       "Index(['class', 'cap-shape', 'cap-surface', 'cap-color', 'bruises', 'odor',\n",
       "       'gill-attachment', 'gill-spacing', 'gill-size', 'gill-color',\n",
       "       'stalk-shape', 'stalk-root', 'stalk-surface-above-ring',\n",
       "       'stalk-surface-below-ring', 'stalk-color-above-ring',\n",
       "       'stalk-color-below-ring', 'veil-type', 'veil-color', 'ring-number',\n",
       "       'ring-type', 'spore-print-color', 'population', 'habitat'],\n",
       "      dtype='object')"
      ]
     },
     "execution_count": 7,
     "metadata": {},
     "output_type": "execute_result"
    }
   ],
   "source": [
    "# Print all columns in dataset\n",
    "data.columns"
   ]
  },
  {
   "cell_type": "code",
   "execution_count": 8,
   "metadata": {
    "colab": {
     "base_uri": "https://localhost:8080/"
    },
    "execution": {
     "iopub.execute_input": "2022-06-25T12:00:49.519095Z",
     "iopub.status.busy": "2022-06-25T12:00:49.518029Z",
     "iopub.status.idle": "2022-06-25T12:00:49.553139Z",
     "shell.execute_reply": "2022-06-25T12:00:49.551873Z",
     "shell.execute_reply.started": "2022-06-25T12:00:49.519049Z"
    },
    "id": "4I77e8n6Sau_",
    "outputId": "77f9b67c-08af-4b1c-b408-5fc3117cc9ce"
   },
   "outputs": [
    {
     "data": {
      "text/plain": [
       "class                       0\n",
       "cap-shape                   0\n",
       "cap-surface                 0\n",
       "cap-color                   0\n",
       "bruises                     0\n",
       "odor                        0\n",
       "gill-attachment             0\n",
       "gill-spacing                0\n",
       "gill-size                   0\n",
       "gill-color                  0\n",
       "stalk-shape                 0\n",
       "stalk-root                  0\n",
       "stalk-surface-above-ring    0\n",
       "stalk-surface-below-ring    0\n",
       "stalk-color-above-ring      0\n",
       "stalk-color-below-ring      0\n",
       "veil-type                   0\n",
       "veil-color                  0\n",
       "ring-number                 0\n",
       "ring-type                   0\n",
       "spore-print-color           0\n",
       "population                  0\n",
       "habitat                     0\n",
       "dtype: int64"
      ]
     },
     "execution_count": 8,
     "metadata": {},
     "output_type": "execute_result"
    }
   ],
   "source": [
    "# Check for any null values in the dataset\n",
    "data.isnull().sum()"
   ]
  },
  {
   "cell_type": "code",
   "execution_count": 9,
   "metadata": {
    "colab": {
     "base_uri": "https://localhost:8080/"
    },
    "execution": {
     "iopub.execute_input": "2022-06-25T12:00:49.555082Z",
     "iopub.status.busy": "2022-06-25T12:00:49.554660Z",
     "iopub.status.idle": "2022-06-25T12:00:49.563858Z",
     "shell.execute_reply": "2022-06-25T12:00:49.562778Z",
     "shell.execute_reply.started": "2022-06-25T12:00:49.555035Z"
    },
    "id": "zp7PDeReSj4B",
    "outputId": "efc913a7-3758-4972-c07e-61c78c34cebc"
   },
   "outputs": [
    {
     "data": {
      "text/plain": [
       "array(['p', 'e'], dtype=object)"
      ]
     },
     "execution_count": 9,
     "metadata": {},
     "output_type": "execute_result"
    }
   ],
   "source": [
    "# Print unique value in 'class' column, i.e the labels - edible=e, poisonous=p\n",
    "data['class'].unique()"
   ]
  },
  {
   "cell_type": "code",
   "execution_count": 10,
   "metadata": {
    "colab": {
     "base_uri": "https://localhost:8080/",
     "height": 262
    },
    "execution": {
     "iopub.execute_input": "2022-06-25T12:00:49.568129Z",
     "iopub.status.busy": "2022-06-25T12:00:49.567640Z",
     "iopub.status.idle": "2022-06-25T12:00:49.753493Z",
     "shell.execute_reply": "2022-06-25T12:00:49.752109Z",
     "shell.execute_reply.started": "2022-06-25T12:00:49.568084Z"
    },
    "id": "wWLYIJO7SqWV",
    "outputId": "f67a0721-af5e-4fc7-f196-7b2ffce61a47"
   },
   "outputs": [
    {
     "data": {
      "image/png": "[encoded data removed]",
      "text/plain": [
       "<Figure size 432x288 with 1 Axes>"
      ]
     },
     "metadata": {
      "needs_background": "light"
     },
     "output_type": "display_data"
    }
   ],
   "source": [
    "# Count the no.of data points for each class label\n",
    "pd.Series(data['class']).value_counts().plot(kind='bar');"
   ]
  },
  {
   "cell_type": "code",
   "execution_count": 11,
   "metadata": {
    "colab": {
     "base_uri": "https://localhost:8080/",
     "height": 352
    },
    "execution": {
     "iopub.execute_input": "2022-06-25T12:00:49.838950Z",
     "iopub.status.busy": "2022-06-25T12:00:49.838064Z",
     "iopub.status.idle": "2022-06-25T12:00:49.862183Z",
     "shell.execute_reply": "2022-06-25T12:00:49.861062Z",
     "shell.execute_reply.started": "2022-06-25T12:00:49.838904Z"
    },
    "id": "zgkyhW6dgQWo",
    "outputId": "57777c8f-8d9e-4844-d43d-32499cf609e3"
   },
   "outputs": [
    {
     "data": {
      "text/html": [
       "\n",
       "  <div id=\"df-e1b17364-47c9-4a65-860b-c40205c87023\">\n",
       "    <div class=\"colab-df-container\">\n",
       "      <div>\n",
       "<style scoped>\n",
       "    .dataframe tbody tr th:only-of-type {\n",
       "        vertical-align: middle;\n",
       "    }\n",
       "\n",
       "    .dataframe tbody tr th {\n",
       "        vertical-align: top;\n",
       "    }\n",
       "\n",
       "    .dataframe thead th {\n",
       "        text-align: right;\n",
       "    }\n",
       "</style>\n",
       "<table border=\"1\" class=\"dataframe\">\n",
       "  <thead>\n",
       "    <tr style=\"text-align: right;\">\n",
       "      <th></th>\n",
       "      <th>class</th>\n",
       "      <th>cap-shape</th>\n",
       "      <th>cap-surface</th>\n",
       "      <th>cap-color</th>\n",
       "      <th>bruises</th>\n",
       "      <th>odor</th>\n",
       "      <th>gill-attachment</th>\n",
       "      <th>gill-spacing</th>\n",
       "      <th>gill-size</th>\n",
       "      <th>gill-color</th>\n",
       "      <th>...</th>\n",
       "      <th>stalk-surface-below-ring</th>\n",
       "      <th>stalk-color-above-ring</th>\n",
       "      <th>stalk-color-below-ring</th>\n",
       "      <th>veil-type</th>\n",
       "      <th>veil-color</th>\n",
       "      <th>ring-number</th>\n",
       "      <th>ring-type</th>\n",
       "      <th>spore-print-color</th>\n",
       "      <th>population</th>\n",
       "      <th>habitat</th>\n",
       "    </tr>\n",
       "  </thead>\n",
       "  <tbody>\n",
       "    <tr>\n",
       "      <th>0</th>\n",
       "      <td>p</td>\n",
       "      <td>x</td>\n",
       "      <td>s</td>\n",
       "      <td>n</td>\n",
       "      <td>t</td>\n",
       "      <td>p</td>\n",
       "      <td>f</td>\n",
       "      <td>c</td>\n",
       "      <td>n</td>\n",
       "      <td>k</td>\n",
       "      <td>...</td>\n",
       "      <td>s</td>\n",
       "      <td>w</td>\n",
       "      <td>w</td>\n",
       "      <td>p</td>\n",
       "      <td>w</td>\n",
       "      <td>o</td>\n",
       "      <td>p</td>\n",
       "      <td>k</td>\n",
       "      <td>s</td>\n",
       "      <td>u</td>\n",
       "    </tr>\n",
       "    <tr>\n",
       "      <th>1</th>\n",
       "      <td>e</td>\n",
       "      <td>x</td>\n",
       "      <td>s</td>\n",
       "      <td>y</td>\n",
       "      <td>t</td>\n",
       "      <td>a</td>\n",
       "      <td>f</td>\n",
       "      <td>c</td>\n",
       "      <td>b</td>\n",
       "      <td>k</td>\n",
       "      <td>...</td>\n",
       "      <td>s</td>\n",
       "      <td>w</td>\n",
       "      <td>w</td>\n",
       "      <td>p</td>\n",
       "      <td>w</td>\n",
       "      <td>o</td>\n",
       "      <td>p</td>\n",
       "      <td>n</td>\n",
       "      <td>n</td>\n",
       "      <td>g</td>\n",
       "    </tr>\n",
       "    <tr>\n",
       "      <th>2</th>\n",
       "      <td>e</td>\n",
       "      <td>b</td>\n",
       "      <td>s</td>\n",
       "      <td>w</td>\n",
       "      <td>t</td>\n",
       "      <td>l</td>\n",
       "      <td>f</td>\n",
       "      <td>c</td>\n",
       "      <td>b</td>\n",
       "      <td>n</td>\n",
       "      <td>...</td>\n",
       "      <td>s</td>\n",
       "      <td>w</td>\n",
       "      <td>w</td>\n",
       "      <td>p</td>\n",
       "      <td>w</td>\n",
       "      <td>o</td>\n",
       "      <td>p</td>\n",
       "      <td>n</td>\n",
       "      <td>n</td>\n",
       "      <td>m</td>\n",
       "    </tr>\n",
       "    <tr>\n",
       "      <th>3</th>\n",
       "      <td>p</td>\n",
       "      <td>x</td>\n",
       "      <td>y</td>\n",
       "      <td>w</td>\n",
       "      <td>t</td>\n",
       "      <td>p</td>\n",
       "      <td>f</td>\n",
       "      <td>c</td>\n",
       "      <td>n</td>\n",
       "      <td>n</td>\n",
       "      <td>...</td>\n",
       "      <td>s</td>\n",
       "      <td>w</td>\n",
       "      <td>w</td>\n",
       "      <td>p</td>\n",
       "      <td>w</td>\n",
       "      <td>o</td>\n",
       "      <td>p</td>\n",
       "      <td>k</td>\n",
       "      <td>s</td>\n",
       "      <td>u</td>\n",
       "    </tr>\n",
       "    <tr>\n",
       "      <th>4</th>\n",
       "      <td>e</td>\n",
       "      <td>x</td>\n",
       "      <td>s</td>\n",
       "      <td>g</td>\n",
       "      <td>f</td>\n",
       "      <td>n</td>\n",
       "      <td>f</td>\n",
       "      <td>w</td>\n",
       "      <td>b</td>\n",
       "      <td>k</td>\n",
       "      <td>...</td>\n",
       "      <td>s</td>\n",
       "      <td>w</td>\n",
       "      <td>w</td>\n",
       "      <td>p</td>\n",
       "      <td>w</td>\n",
       "      <td>o</td>\n",
       "      <td>e</td>\n",
       "      <td>n</td>\n",
       "      <td>a</td>\n",
       "      <td>g</td>\n",
       "    </tr>\n",
       "  </tbody>\n",
       "</table>\n",
       "<p>5 rows × 23 columns</p>\n",
       "</div>\n",
       "      <button class=\"colab-df-convert\" onclick=\"convertToInteractive('df-e1b17364-47c9-4a65-860b-c40205c87023')\"\n",
       "              title=\"Convert this dataframe to an interactive table.\"\n",
       "              style=\"display:none;\">\n",
       "        \n",
       "  <svg xmlns=\"http://www.w3.org/2000/svg\" height=\"24px\"viewBox=\"0 0 24 24\"\n",
       "       width=\"24px\">\n",
       "    <path d=\"M0 0h24v24H0V0z\" fill=\"none\"/>\n",
       "    <path d=\"M18.56 5.44l.94 2.06.94-2.06 2.06-.94-2.06-.94-.94-2.06-.94 2.06-2.06.94zm-11 1L8.5 8.5l.94-2.06 2.06-.94-2.06-.94L8.5 2.5l-.94 2.06-2.06.94zm10 10l.94 2.06.94-2.06 2.06-.94-2.06-.94-.94-2.06-.94 2.06-2.06.94z\"/><path d=\"M17.41 7.96l-1.37-1.37c-.4-.4-.92-.59-1.43-.59-.52 0-1.04.2-1.43.59L10.3 9.45l-7.72 7.72c-.78.78-.78 2.05 0 2.83L4 21.41c.39.39.9.59 1.41.59.51 0 1.02-.2 1.41-.59l7.78-7.78 2.81-2.81c.8-.78.8-2.07 0-2.86zM5.41 20L4 18.59l7.72-7.72 1.47 1.35L5.41 20z\"/>\n",
       "  </svg>\n",
       "      </button>\n",
       "      \n",
       "  <style>\n",
       "    .colab-df-container {\n",
       "      display:flex;\n",
       "      flex-wrap:wrap;\n",
       "      gap: 12px;\n",
       "    }\n",
       "\n",
       "    .colab-df-convert {\n",
       "      background-color: #E8F0FE;\n",
       "      border: none;\n",
       "      border-radius: 50%;\n",
       "      cursor: pointer;\n",
       "      display: none;\n",
       "      fill: #1967D2;\n",
       "      height: 32px;\n",
       "      padding: 0 0 0 0;\n",
       "      width: 32px;\n",
       "    }\n",
       "\n",
       "    .colab-df-convert:hover {\n",
       "      background-color: #E2EBFA;\n",
       "      box-shadow: 0px 1px 2px rgba(60, 64, 67, 0.3), 0px 1px 3px 1px rgba(60, 64, 67, 0.15);\n",
       "      fill: #174EA6;\n",
       "    }\n",
       "\n",
       "    [theme=dark] .colab-df-convert {\n",
       "      background-color: #3B4455;\n",
       "      fill: #D2E3FC;\n",
       "    }\n",
       "\n",
       "    [theme=dark] .colab-df-convert:hover {\n",
       "      background-color: #434B5C;\n",
       "      box-shadow: 0px 1px 3px 1px rgba(0, 0, 0, 0.15);\n",
       "      filter: drop-shadow(0px 1px 2px rgba(0, 0, 0, 0.3));\n",
       "      fill: #FFFFFF;\n",
       "    }\n",
       "  </style>\n",
       "\n",
       "      <script>\n",
       "        const buttonEl =\n",
       "          document.querySelector('#df-e1b17364-47c9-4a65-860b-c40205c87023 button.colab-df-convert');\n",
       "        buttonEl.style.display =\n",
       "          google.colab.kernel.accessAllowed ? 'block' : 'none';\n",
       "\n",
       "        async function convertToInteractive(key) {\n",
       "          const element = document.querySelector('#df-e1b17364-47c9-4a65-860b-c40205c87023');\n",
       "          const dataTable =\n",
       "            await google.colab.kernel.invokeFunction('convertToInteractive',\n",
       "                                                     [key], {});\n",
       "          if (!dataTable) return;\n",
       "\n",
       "          const docLinkHtml = 'Like what you see? Visit the ' +\n",
       "            '<a target=\"_blank\" href=https://colab.research.google.com/notebooks/data_table.ipynb>data table notebook</a>'\n",
       "            + ' to learn more about interactive tables.';\n",
       "          element.innerHTML = '';\n",
       "          dataTable['output_type'] = 'display_data';\n",
       "          await google.colab.output.renderOutput(dataTable, element);\n",
       "          const docLink = document.createElement('div');\n",
       "          docLink.innerHTML = docLinkHtml;\n",
       "          element.appendChild(docLink);\n",
       "        }\n",
       "      </script>\n",
       "    </div>\n",
       "  </div>\n",
       "  "
      ],
      "text/plain": [
       "  class cap-shape cap-surface cap-color bruises odor gill-attachment  \\\n",
       "0     p         x           s         n       t    p               f   \n",
       "1     e         x           s         y       t    a               f   \n",
       "2     e         b           s         w       t    l               f   \n",
       "3     p         x           y         w       t    p               f   \n",
       "4     e         x           s         g       f    n               f   \n",
       "\n",
       "  gill-spacing gill-size gill-color  ... stalk-surface-below-ring  \\\n",
       "0            c         n          k  ...                        s   \n",
       "1            c         b          k  ...                        s   \n",
       "2            c         b          n  ...                        s   \n",
       "3            c         n          n  ...                        s   \n",
       "4            w         b          k  ...                        s   \n",
       "\n",
       "  stalk-color-above-ring stalk-color-below-ring veil-type veil-color  \\\n",
       "0                      w                      w         p          w   \n",
       "1                      w                      w         p          w   \n",
       "2                      w                      w         p          w   \n",
       "3                      w                      w         p          w   \n",
       "4                      w                      w         p          w   \n",
       "\n",
       "  ring-number ring-type spore-print-color population habitat  \n",
       "0           o         p                 k          s       u  \n",
       "1           o         p                 n          n       g  \n",
       "2           o         p                 n          n       m  \n",
       "3           o         p                 k          s       u  \n",
       "4           o         e                 n          a       g  \n",
       "\n",
       "[5 rows x 23 columns]"
      ]
     },
     "execution_count": 11,
     "metadata": {},
     "output_type": "execute_result"
    }
   ],
   "source": [
    "data.head()"
   ]
  },
  {
   "cell_type": "markdown",
   "metadata": {
    "id": "yjaejvX51L1S"
   },
   "source": [
    "## Preprocess data"
   ]
  },
  {
   "cell_type": "code",
   "execution_count": 12,
   "metadata": {
    "id": "clUX9vBw1AcV"
   },
   "outputs": [],
   "source": [
    "# Encoding the categorical features into numeric values\n",
    "# Encode target labels with value between 0 and n_classes-1.\n",
    "le = pp.LabelEncoder()\n",
    "columns = data.columns\n",
    "for c in columns:\n",
    "    data[c] = le.fit_transform(data[c])"
   ]
  },
  {
   "cell_type": "code",
   "execution_count": 13,
   "metadata": {
    "colab": {
     "base_uri": "https://localhost:8080/",
     "height": 934
    },
    "execution": {
     "iopub.execute_input": "2022-06-25T12:00:49.864315Z",
     "iopub.status.busy": "2022-06-25T12:00:49.863298Z",
     "iopub.status.idle": "2022-06-25T12:00:52.516561Z",
     "shell.execute_reply": "2022-06-25T12:00:52.515770Z",
     "shell.execute_reply.started": "2022-06-25T12:00:49.864280Z"
    },
    "id": "k_I4id4yGnEP",
    "outputId": "dbb40699-6d6a-422b-e610-b627a2d55e33"
   },
   "outputs": [
    {
     "name": "stderr",
     "output_type": "stream",
     "text": [
      "/usr/local/lib/python3.7/dist-packages/ipykernel_launcher.py:3: UserWarning: To output multiple subplots, the figure containing the passed axes is being cleared\n",
      "  This is separate from the ipykernel package so we can avoid doing imports until\n"
     ]
    },
    {
     "data": {
      "image/png": "[encoded data removed]",
      "text/plain": [
       "<Figure size 1080x1080 with 25 Axes>"
      ]
     },
     "metadata": {
      "needs_background": "light"
     },
     "output_type": "display_data"
    }
   ],
   "source": [
    "# Display histograms from the DataFrame's columns.\n",
    "fig = plt.figure(figsize=(15, 15))\n",
    "data.hist(ax=fig.gca())\n",
    "plt.show()"
   ]
  },
  {
   "cell_type": "code",
   "execution_count": 14,
   "metadata": {
    "colab": {
     "base_uri": "https://localhost:8080/"
    },
    "execution": {
     "iopub.execute_input": "2022-06-25T12:00:52.518484Z",
     "iopub.status.busy": "2022-06-25T12:00:52.517937Z",
     "iopub.status.idle": "2022-06-25T12:00:52.528287Z",
     "shell.execute_reply": "2022-06-25T12:00:52.526958Z",
     "shell.execute_reply.started": "2022-06-25T12:00:52.518450Z"
    },
    "id": "BlEvpLWITWrE",
    "outputId": "833af9b8-932b-4318-e3c2-38adc46b78eb"
   },
   "outputs": [
    {
     "data": {
      "text/plain": [
       "((8124, 22), (8124,))"
      ]
     },
     "execution_count": 14,
     "metadata": {},
     "output_type": "execute_result"
    }
   ],
   "source": [
    "# Seperate features and target labels\n",
    "y = data[\"class\"].values\n",
    "X_all = data.drop([\"class\"], axis=1).values\n",
    "X_all.shape, y.shape"
   ]
  },
  {
   "cell_type": "code",
   "execution_count": 15,
   "metadata": {
    "execution": {
     "iopub.execute_input": "2022-06-25T12:00:52.530598Z",
     "iopub.status.busy": "2022-06-25T12:00:52.529892Z",
     "iopub.status.idle": "2022-06-25T12:00:52.605005Z",
     "shell.execute_reply": "2022-06-25T12:00:52.604193Z",
     "shell.execute_reply.started": "2022-06-25T12:00:52.530555Z"
    },
    "id": "3GSiDbeGGLfa"
   },
   "outputs": [],
   "source": [
    "# Scale the given features bewtween the range 0 and 1\n",
    "scaler = pp.MinMaxScaler()\n",
    "X_scaled = scaler.fit_transform(X_all)"
   ]
  },
  {
   "cell_type": "code",
   "execution_count": 16,
   "metadata": {
    "colab": {
     "base_uri": "https://localhost:8080/"
    },
    "execution": {
     "iopub.execute_input": "2022-06-25T12:00:52.607504Z",
     "iopub.status.busy": "2022-06-25T12:00:52.606679Z",
     "iopub.status.idle": "2022-06-25T12:00:52.630196Z",
     "shell.execute_reply": "2022-06-25T12:00:52.628977Z",
     "shell.execute_reply.started": "2022-06-25T12:00:52.607458Z"
    },
    "id": "mwwDoUMp640y",
    "outputId": "6fe1c46b-7539-4935-85b8-7a0d209d2531"
   },
   "outputs": [
    {
     "data": {
      "text/plain": [
       "(8124, 20)"
      ]
     },
     "execution_count": 16,
     "metadata": {},
     "output_type": "execute_result"
    }
   ],
   "source": [
    "# Feature selection according to the k highest scores.\n",
    "feature_select = fs.SelectKBest(fs.chi2, k=20)\n",
    "X = feature_select.fit_transform(X_scaled, y)\n",
    "X.shape"
   ]
  },
  {
   "cell_type": "code",
   "execution_count": 17,
   "metadata": {
    "colab": {
     "base_uri": "https://localhost:8080/"
    },
    "execution": {
     "iopub.execute_input": "2022-06-25T12:00:52.632925Z",
     "iopub.status.busy": "2022-06-25T12:00:52.632011Z",
     "iopub.status.idle": "2022-06-25T12:00:52.642264Z",
     "shell.execute_reply": "2022-06-25T12:00:52.641172Z",
     "shell.execute_reply.started": "2022-06-25T12:00:52.632872Z"
    },
    "id": "SavvNSugHc9O",
    "outputId": "1ee87351-e6f6-44ef-d21f-4ac910bcc741"
   },
   "outputs": [
    {
     "data": {
      "text/plain": [
       "array([[1.        , 0.66666667, 1.        , ..., 0.25      , 0.6       ,\n",
       "        0.83333333],\n",
       "       [1.        , 0.66666667, 1.        , ..., 0.375     , 0.4       ,\n",
       "        0.16666667],\n",
       "       [0.        , 0.66666667, 1.        , ..., 0.375     , 0.4       ,\n",
       "        0.5       ],\n",
       "       ...,\n",
       "       [0.4       , 0.66666667, 0.        , ..., 0.        , 0.2       ,\n",
       "        0.33333333],\n",
       "       [0.6       , 1.        , 0.        , ..., 0.875     , 0.8       ,\n",
       "        0.33333333],\n",
       "       [1.        , 0.66666667, 0.        , ..., 0.5       , 0.2       ,\n",
       "        0.33333333]])"
      ]
     },
     "execution_count": 17,
     "metadata": {},
     "output_type": "execute_result"
    }
   ],
   "source": [
    "# Print features\n",
    "X"
   ]
  },
  {
   "cell_type": "code",
   "execution_count": 18,
   "metadata": {
    "execution": {
     "iopub.execute_input": "2022-06-25T12:00:52.644797Z",
     "iopub.status.busy": "2022-06-25T12:00:52.644029Z",
     "iopub.status.idle": "2022-06-25T12:00:52.657198Z",
     "shell.execute_reply": "2022-06-25T12:00:52.655916Z",
     "shell.execute_reply.started": "2022-06-25T12:00:52.644710Z"
    },
    "id": "sgE6dq3S63Eh"
   },
   "outputs": [],
   "source": [
    "# Split dataset into random train and test sub-datasets\n",
    "X_train, X_test, y_train, y_test = train_test_split(\n",
    "    X, y, random_state=42, test_size=0.25\n",
    ")"
   ]
  },
  {
   "cell_type": "code",
   "execution_count": 19,
   "metadata": {
    "colab": {
     "base_uri": "https://localhost:8080/"
    },
    "execution": {
     "iopub.execute_input": "2022-06-25T12:00:52.659952Z",
     "iopub.status.busy": "2022-06-25T12:00:52.659162Z",
     "iopub.status.idle": "2022-06-25T12:00:52.674857Z",
     "shell.execute_reply": "2022-06-25T12:00:52.673561Z",
     "shell.execute_reply.started": "2022-06-25T12:00:52.659902Z"
    },
    "id": "ou8_H4AtY7r6",
    "outputId": "7fb56947-502b-473e-c58e-ca3e37fcb279"
   },
   "outputs": [
    {
     "data": {
      "text/plain": [
       "((6093, 20), (2031, 20))"
      ]
     },
     "execution_count": 19,
     "metadata": {},
     "output_type": "execute_result"
    }
   ],
   "source": [
    "# Print dataset feature dimensions\n",
    "X_train.shape, X_test.shape"
   ]
  },
  {
   "cell_type": "code",
   "execution_count": 20,
   "metadata": {
    "colab": {
     "base_uri": "https://localhost:8080/"
    },
    "execution": {
     "iopub.execute_input": "2022-06-25T12:00:52.678031Z",
     "iopub.status.busy": "2022-06-25T12:00:52.676972Z",
     "iopub.status.idle": "2022-06-25T12:00:52.696160Z",
     "shell.execute_reply": "2022-06-25T12:00:52.694936Z",
     "shell.execute_reply.started": "2022-06-25T12:00:52.677975Z"
    },
    "id": "cFHpGVYyY88v",
    "outputId": "dc0e9930-28f8-47a8-f6bf-04e2b99be5bf"
   },
   "outputs": [
    {
     "data": {
      "text/plain": [
       "((6093,), (2031,))"
      ]
     },
     "execution_count": 20,
     "metadata": {},
     "output_type": "execute_result"
    }
   ],
   "source": [
    "# Print dataset target label dimensions\n",
    "y_train.shape, y_test.shape"
   ]
  },
  {
   "cell_type": "markdown",
   "metadata": {
    "id": "20gyjHg80QbT"
   },
   "source": [
    "## Gaussian Naive Bayes"
   ]
  },
  {
   "cell_type": "code",
   "execution_count": 21,
   "metadata": {
    "colab": {
     "base_uri": "https://localhost:8080/"
    },
    "execution": {
     "iopub.execute_input": "2022-06-25T12:00:52.699055Z",
     "iopub.status.busy": "2022-06-25T12:00:52.698067Z",
     "iopub.status.idle": "2022-06-25T12:00:52.944667Z",
     "shell.execute_reply": "2022-06-25T12:00:52.943373Z",
     "shell.execute_reply.started": "2022-06-25T12:00:52.699000Z"
    },
    "id": "0VNLx2NKf5F-",
    "outputId": "3d5a879b-bc2d-4e7a-cd99-c0dc55015210"
   },
   "outputs": [
    {
     "data": {
      "text/plain": [
       "GaussianNB()"
      ]
     },
     "execution_count": 21,
     "metadata": {},
     "output_type": "execute_result"
    }
   ],
   "source": [
    "# Gaussian Naive Bayes (GNB) classification algorithm\n",
    "gnb = nb.GaussianNB()\n",
    "# Train the GNB model on the training data\n",
    "gnb.fit(X, y)"
   ]
  },
  {
   "cell_type": "code",
   "execution_count": 22,
   "metadata": {
    "colab": {
     "base_uri": "https://localhost:8080/",
     "height": 522
    },
    "execution": {
     "iopub.execute_input": "2022-06-25T12:00:52.946292Z",
     "iopub.status.busy": "2022-06-25T12:00:52.946000Z",
     "iopub.status.idle": "2022-06-25T12:00:53.187272Z",
     "shell.execute_reply": "2022-06-25T12:00:53.186163Z",
     "shell.execute_reply.started": "2022-06-25T12:00:52.946264Z"
    },
    "id": "YLR6TNnMl5Us",
    "outputId": "093035c3-6b1c-40a7-8c7c-cbd44bc836a5"
   },
   "outputs": [
    {
     "name": "stdout",
     "output_type": "stream",
     "text": [
      "Gaussian Naive Bayes Accuracy: \n",
      "92.32\n",
      "\n",
      "Classification Report: \n",
      "              precision    recall  f1-score   support\n",
      "\n",
      "           0       0.94      0.91      0.92      1040\n",
      "           1       0.91      0.93      0.92       991\n",
      "\n",
      "    accuracy                           0.92      2031\n",
      "   macro avg       0.92      0.92      0.92      2031\n",
      "weighted avg       0.92      0.92      0.92      2031\n",
      "\n",
      "Confusion Matrix:\n"
     ]
    },
    {
     "data": {
      "image/png": "[encoded data removed]",
      "text/plain": [
       "<Figure size 432x288 with 2 Axes>"
      ]
     },
     "metadata": {
      "needs_background": "light"
     },
     "output_type": "display_data"
    }
   ],
   "source": [
    "# Predict and evaluate the GNB model on the test data\n",
    "pred_gnb = gnb.predict(X_test)\n",
    "\n",
    "acc_gnb = round(accuracy_score(y_test, pred_gnb) * 100, 2)\n",
    "print(f\"Gaussian Naive Bayes Accuracy: \\n{acc_gnb}\\n\")\n",
    "\n",
    "cr_gnb = classification_report(y_test, pred_gnb)\n",
    "print(f\"Classification Report: \\n{cr_gnb}\")\n",
    "cr_gnb = classification_report(y_test, pred_gnb, output_dict=True)\n",
    "\n",
    "print(\"Confusion Matrix:\")\n",
    "cm_gnb = confusion_matrix(y_test, pred_gnb)\n",
    "disp_gnb = ConfusionMatrixDisplay(\n",
    "    confusion_matrix=cm_gnb, display_labels=gnb.classes_\n",
    ")\n",
    "disp_gnb.plot()\n",
    "plt.show()"
   ]
  },
  {
   "cell_type": "markdown",
   "metadata": {
    "id": "_qCHrJkUzmiM"
   },
   "source": [
    "## Logistic Regression"
   ]
  },
  {
   "cell_type": "code",
   "execution_count": 23,
   "metadata": {
    "colab": {
     "base_uri": "https://localhost:8080/"
    },
    "execution": {
     "iopub.execute_input": "2022-06-25T12:00:53.191224Z",
     "iopub.status.busy": "2022-06-25T12:00:53.190709Z",
     "iopub.status.idle": "2022-06-25T12:00:53.291056Z",
     "shell.execute_reply": "2022-06-25T12:00:53.289783Z",
     "shell.execute_reply.started": "2022-06-25T12:00:53.191183Z"
    },
    "id": "uvJ59jcKecB0",
    "outputId": "ee9b3276-99cc-4fd1-f1c4-0f6170c5be73"
   },
   "outputs": [
    {
     "data": {
      "text/plain": [
       "LogisticRegression(max_iter=500)"
      ]
     },
     "execution_count": 23,
     "metadata": {},
     "output_type": "execute_result"
    }
   ],
   "source": [
    "# Logistic Regression (LR) classification algorithm\n",
    "lr = lm.LogisticRegression(solver='lbfgs', max_iter=500)\n",
    "# Train the GNB model on the training data\n",
    "lr.fit(X_train, y_train)"
   ]
  },
  {
   "cell_type": "code",
   "execution_count": 24,
   "metadata": {
    "colab": {
     "base_uri": "https://localhost:8080/",
     "height": 522
    },
    "execution": {
     "iopub.execute_input": "2022-06-25T12:00:53.293975Z",
     "iopub.status.busy": "2022-06-25T12:00:53.293115Z",
     "iopub.status.idle": "2022-06-25T12:00:53.560635Z",
     "shell.execute_reply": "2022-06-25T12:00:53.559543Z",
     "shell.execute_reply.started": "2022-06-25T12:00:53.293918Z"
    },
    "id": "3OpDN3SQlEaF",
    "outputId": "a5ce39fa-adbf-4b7a-8a44-479beecca459"
   },
   "outputs": [
    {
     "name": "stdout",
     "output_type": "stream",
     "text": [
      "Logistic Regression Accuracy: \n",
      "95.08\n",
      "\n",
      "Classification Report: \n",
      "              precision    recall  f1-score   support\n",
      "\n",
      "           0       0.95      0.95      0.95      1040\n",
      "           1       0.95      0.95      0.95       991\n",
      "\n",
      "    accuracy                           0.95      2031\n",
      "   macro avg       0.95      0.95      0.95      2031\n",
      "weighted avg       0.95      0.95      0.95      2031\n",
      "\n",
      "Confusion Matrix:\n"
     ]
    },
    {
     "data": {
      "image/png": "[encoded data removed]",
      "text/plain": [
       "<Figure size 432x288 with 2 Axes>"
      ]
     },
     "metadata": {
      "needs_background": "light"
     },
     "output_type": "display_data"
    }
   ],
   "source": [
    "# Predict and evaluate the GNB model on the test data\n",
    "pred_lr = lr.predict(X_test)\n",
    "\n",
    "acc_lr = round(accuracy_score(y_test, pred_lr) * 100, 2)\n",
    "print(f\"Logistic Regression Accuracy: \\n{acc_lr}\\n\")\n",
    "\n",
    "cr_lr = classification_report(y_test, pred_lr)\n",
    "print(f\"Classification Report: \\n{cr_lr}\")\n",
    "cr_lr = classification_report(y_test, pred_lr, output_dict=True)\n",
    "\n",
    "print(\"Confusion Matrix:\")\n",
    "cm_lr = confusion_matrix(y_test, pred_lr)\n",
    "disp_lr = ConfusionMatrixDisplay(\n",
    "    confusion_matrix=cm_lr, display_labels=lr.classes_\n",
    ")\n",
    "disp_lr.plot()\n",
    "plt.show()"
   ]
  },
  {
   "cell_type": "markdown",
   "metadata": {
    "id": "Jy67I4u3zyvU"
   },
   "source": [
    "## Support Vector Classification"
   ]
  },
  {
   "cell_type": "code",
   "execution_count": 25,
   "metadata": {
    "colab": {
     "base_uri": "https://localhost:8080/"
    },
    "execution": {
     "iopub.execute_input": "2022-06-25T12:00:53.562644Z",
     "iopub.status.busy": "2022-06-25T12:00:53.562199Z",
     "iopub.status.idle": "2022-06-25T12:00:53.991867Z",
     "shell.execute_reply": "2022-06-25T12:00:53.990797Z",
     "shell.execute_reply.started": "2022-06-25T12:00:53.562601Z"
    },
    "id": "UHuFhiZ7mZGP",
    "outputId": "3cec35a4-93be-4110-8fdb-a15b4a678542"
   },
   "outputs": [
    {
     "data": {
      "text/plain": [
       "SVC(kernel='linear')"
      ]
     },
     "execution_count": 25,
     "metadata": {},
     "output_type": "execute_result"
    }
   ],
   "source": [
    "# Support Vector Classification (SVC) algorithm.\n",
    "svc = svm.SVC(kernel='linear')\n",
    "# Train the GNB model on the training data\n",
    "svc.fit(X_train, y_train)"
   ]
  },
  {
   "cell_type": "code",
   "execution_count": 26,
   "metadata": {
    "colab": {
     "base_uri": "https://localhost:8080/",
     "height": 505
    },
    "execution": {
     "iopub.execute_input": "2022-06-25T12:00:53.993809Z",
     "iopub.status.busy": "2022-06-25T12:00:53.993359Z",
     "iopub.status.idle": "2022-06-25T12:00:54.271921Z",
     "shell.execute_reply": "2022-06-25T12:00:54.270906Z",
     "shell.execute_reply.started": "2022-06-25T12:00:53.993764Z"
    },
    "id": "LBJvVSTItZsd",
    "outputId": "ce9dae96-d312-4ac2-a1b8-a74a23f7d64f"
   },
   "outputs": [
    {
     "name": "stdout",
     "output_type": "stream",
     "text": [
      "SVC Accuracy: \n",
      "95.13\n",
      "Classification Report: \n",
      "              precision    recall  f1-score   support\n",
      "\n",
      "           0       0.95      0.95      0.95      1040\n",
      "           1       0.95      0.95      0.95       991\n",
      "\n",
      "    accuracy                           0.95      2031\n",
      "   macro avg       0.95      0.95      0.95      2031\n",
      "weighted avg       0.95      0.95      0.95      2031\n",
      "\n",
      "Confusion Matrix:\n"
     ]
    },
    {
     "data": {
      "image/png": "[encoded data removed]",
      "text/plain": [
       "<Figure size 432x288 with 2 Axes>"
      ]
     },
     "metadata": {
      "needs_background": "light"
     },
     "output_type": "display_data"
    }
   ],
   "source": [
    "# Predict and evaluate the GNB model on the test data\n",
    "pred_svc = svc.predict(X_test)\n",
    "\n",
    "acc_svc = round(accuracy_score(y_test, pred_svc) * 100, 2)\n",
    "print(f\"SVC Accuracy: \\n{acc_svc}\")\n",
    "\n",
    "cr_svc = classification_report(y_test, pred_svc)\n",
    "print(f\"Classification Report: \\n{cr_svc}\")\n",
    "cr_svc = classification_report(y_test, pred_svc, output_dict=True)\n",
    "\n",
    "print(\"Confusion Matrix:\")\n",
    "cm_svc = confusion_matrix(y_test, pred_svc)\n",
    "disp_svc = ConfusionMatrixDisplay(\n",
    "    confusion_matrix=cm_svc, display_labels=lr.classes_\n",
    ")\n",
    "disp_svc.plot()\n",
    "plt.show()"
   ]
  },
  {
   "cell_type": "markdown",
   "metadata": {
    "id": "4Qf8hyd8z8Ya"
   },
   "source": [
    "## Random Forest"
   ]
  },
  {
   "cell_type": "code",
   "execution_count": 27,
   "metadata": {
    "colab": {
     "base_uri": "https://localhost:8080/"
    },
    "execution": {
     "iopub.execute_input": "2022-06-25T12:00:54.273867Z",
     "iopub.status.busy": "2022-06-25T12:00:54.273527Z",
     "iopub.status.idle": "2022-06-25T12:00:54.580537Z",
     "shell.execute_reply": "2022-06-25T12:00:54.579449Z",
     "shell.execute_reply.started": "2022-06-25T12:00:54.273837Z"
    },
    "id": "pbOwQY2_Cx5k",
    "outputId": "f961255c-bf43-47b3-c36e-ae06cb508629"
   },
   "outputs": [
    {
     "data": {
      "text/plain": [
       "RandomForestClassifier(max_depth=4, random_state=42)"
      ]
     },
     "execution_count": 27,
     "metadata": {},
     "output_type": "execute_result"
    }
   ],
   "source": [
    "# Random Forest (RF) classification algorithm\n",
    "rf = ens.RandomForestClassifier(max_depth=4, n_estimators=100, random_state=42)\n",
    "# Train the GNB model on the training data\n",
    "rf.fit(X_train, y_train)"
   ]
  },
  {
   "cell_type": "code",
   "execution_count": 28,
   "metadata": {
    "colab": {
     "base_uri": "https://localhost:8080/",
     "height": 505
    },
    "execution": {
     "iopub.execute_input": "2022-06-25T12:00:54.587418Z",
     "iopub.status.busy": "2022-06-25T12:00:54.587096Z",
     "iopub.status.idle": "2022-06-25T12:00:54.838519Z",
     "shell.execute_reply": "2022-06-25T12:00:54.837291Z",
     "shell.execute_reply.started": "2022-06-25T12:00:54.587390Z"
    },
    "id": "OPM1OOfaDBwv",
    "outputId": "db9175b8-3fa2-4f20-91bd-fbb0f9c01f70"
   },
   "outputs": [
    {
     "name": "stdout",
     "output_type": "stream",
     "text": [
      "Random Forest Classifier Accuracy: \n",
      "99.11\n",
      "Classification Report: \n",
      "              precision    recall  f1-score   support\n",
      "\n",
      "           0       0.98      1.00      0.99      1040\n",
      "           1       1.00      0.98      0.99       991\n",
      "\n",
      "    accuracy                           0.99      2031\n",
      "   macro avg       0.99      0.99      0.99      2031\n",
      "weighted avg       0.99      0.99      0.99      2031\n",
      "\n",
      "Confusion Matrix:\n"
     ]
    },
    {
     "data": {
      "image/png": "[encoded data removed]",
      "text/plain": [
       "<Figure size 432x288 with 2 Axes>"
      ]
     },
     "metadata": {
      "needs_background": "light"
     },
     "output_type": "display_data"
    }
   ],
   "source": [
    "# Predict and evaluate the GNB model on the test data\n",
    "pred_rf = rf.predict(X_test)\n",
    "\n",
    "acc_rf = round(accuracy_score(y_test, pred_rf) * 100, 2)\n",
    "print(f\"Random Forest Classifier Accuracy: \\n{acc_rf}\")\n",
    "\n",
    "cr_rf = classification_report(y_test, pred_rf)\n",
    "print(f\"Classification Report: \\n{cr_rf}\")\n",
    "cr_rf = classification_report(y_test, pred_rf, output_dict=True)\n",
    "\n",
    "print(\"Confusion Matrix:\")\n",
    "cm_rf = confusion_matrix(y_test, pred_rf)\n",
    "disp_rf = ConfusionMatrixDisplay(\n",
    "    confusion_matrix=cm_rf, display_labels=lr.classes_\n",
    ")\n",
    "disp_rf.plot()\n",
    "plt.show()"
   ]
  },
  {
   "cell_type": "markdown",
   "metadata": {
    "id": "El-SQc3l0GIN"
   },
   "source": [
    "## Artificial Neural Network"
   ]
  },
  {
   "cell_type": "code",
   "execution_count": 29,
   "metadata": {
    "colab": {
     "base_uri": "https://localhost:8080/"
    },
    "execution": {
     "iopub.execute_input": "2022-06-25T12:00:54.841085Z",
     "iopub.status.busy": "2022-06-25T12:00:54.840308Z",
     "iopub.status.idle": "2022-06-25T12:00:56.144157Z",
     "shell.execute_reply": "2022-06-25T12:00:56.142873Z",
     "shell.execute_reply.started": "2022-06-25T12:00:54.841039Z"
    },
    "id": "xRoMrYPjteh_",
    "outputId": "81644e08-4d64-4895-d67a-1ec3b32186e0"
   },
   "outputs": [
    {
     "name": "stdout",
     "output_type": "stream",
     "text": [
      "Model: \"sequential\"\n",
      "_________________________________________________________________\n",
      " Layer (type)                Output Shape              Param #   \n",
      "=================================================================\n",
      " dense (Dense)               (None, 64)                1344      \n",
      "                                                                 \n",
      " activation (Activation)     (None, 64)                0         \n",
      "                                                                 \n",
      " dropout (Dropout)           (None, 64)                0         \n",
      "                                                                 \n",
      " dense_1 (Dense)             (None, 32)                2080      \n",
      "                                                                 \n",
      " activation_1 (Activation)   (None, 32)                0         \n",
      "                                                                 \n",
      " dropout_1 (Dropout)         (None, 32)                0         \n",
      "                                                                 \n",
      " dense_2 (Dense)             (None, 16)                528       \n",
      "                                                                 \n",
      " activation_2 (Activation)   (None, 16)                0         \n",
      "                                                                 \n",
      " dropout_2 (Dropout)         (None, 16)                0         \n",
      "                                                                 \n",
      " dense_3 (Dense)             (None, 1)                 17        \n",
      "                                                                 \n",
      " activation_3 (Activation)   (None, 1)                 0         \n",
      "                                                                 \n",
      "=================================================================\n",
      "Total params: 3,969\n",
      "Trainable params: 3,969\n",
      "Non-trainable params: 0\n",
      "_________________________________________________________________\n"
     ]
    }
   ],
   "source": [
    "# Constructing an Artificial Neural Network (ANN) with High-Level Keras API in Tensorflow\n",
    "model = tf.keras.models.Sequential()\n",
    "\n",
    "# Layer 01\n",
    "model.add(tf.keras.layers.Dense(64, input_dim=X_train.shape[1]))\n",
    "model.add(tf.keras.layers.Activation('relu'))\n",
    "model.add(tf.keras.layers.Dropout(0.15))\n",
    "\n",
    "# Layer 02\n",
    "model.add(tf.keras.layers.Dense(32))\n",
    "model.add(tf.keras.layers.Activation('relu'))\n",
    "model.add(tf.keras.layers.Dropout(0.15))\n",
    "\n",
    "# Layer 03\n",
    "model.add(tf.keras.layers.Dense(16))\n",
    "model.add(tf.keras.layers.Activation('relu'))\n",
    "model.add(tf.keras.layers.Dropout(0.15))\n",
    "\n",
    "# Layer 04\n",
    "model.add(tf.keras.layers.Dense(1))\n",
    "model.add(tf.keras.layers.Activation('sigmoid'))\n",
    "\n",
    "# Optimizers\n",
    "opt = tf.keras.optimizers.SGD()\n",
    "\n",
    "# Loss Function\n",
    "loss = tf.keras.losses.BinaryCrossentropy()\n",
    "model.compile(optimizer=opt, loss=loss, metrics=['accuracy'])\n",
    "\n",
    "# print model summary\n",
    "model.summary()"
   ]
  },
  {
   "cell_type": "code",
   "execution_count": 30,
   "metadata": {
    "colab": {
     "base_uri": "https://localhost:8080/",
     "height": 1000
    },
    "execution": {
     "iopub.execute_input": "2022-06-25T12:00:56.146302Z",
     "iopub.status.busy": "2022-06-25T12:00:56.145852Z",
     "iopub.status.idle": "2022-06-25T12:00:57.288016Z",
     "shell.execute_reply": "2022-06-25T12:00:57.286586Z",
     "shell.execute_reply.started": "2022-06-25T12:00:56.146254Z"
    },
    "id": "6x53qnY71pRM",
    "outputId": "26e32926-0594-4df2-f40e-604f807b3735"
   },
   "outputs": [
    {
     "data": {
      "image/png": "[encoded data removed]",
      "text/plain": [
       "<IPython.core.display.Image object>"
      ]
     },
     "execution_count": 30,
     "metadata": {},
     "output_type": "execute_result"
    }
   ],
   "source": [
    "# visualize keras model\n",
    "tf.keras.utils.plot_model(model, to_file='model_plot.png', show_shapes=True, show_layer_names=True)"
   ]
  },
  {
   "cell_type": "code",
   "execution_count": 31,
   "metadata": {
    "colab": {
     "base_uri": "https://localhost:8080/"
    },
    "execution": {
     "iopub.execute_input": "2022-06-25T12:00:57.291110Z",
     "iopub.status.busy": "2022-06-25T12:00:57.290338Z",
     "iopub.status.idle": "2022-06-25T12:01:29.109711Z",
     "shell.execute_reply": "2022-06-25T12:01:29.108595Z",
     "shell.execute_reply.started": "2022-06-25T12:00:57.291067Z"
    },
    "id": "NN51B3Avu-3-",
    "outputId": "8720b47b-7982-4244-c4af-3a321002905a"
   },
   "outputs": [
    {
     "name": "stdout",
     "output_type": "stream",
     "text": [
      "Epoch 1/100\n",
      "191/191 [==============================] - 4s 12ms/step - loss: 0.6417 - accuracy: 0.6389 - val_loss: 0.5950 - val_accuracy: 0.7947 - lr: 0.0100\n",
      "Epoch 2/100\n",
      "191/191 [==============================] - 2s 8ms/step - loss: 0.5585 - accuracy: 0.7840 - val_loss: 0.4886 - val_accuracy: 0.8740 - lr: 0.0100\n",
      "Epoch 3/100\n",
      "191/191 [==============================] - 2s 10ms/step - loss: 0.4607 - accuracy: 0.8456 - val_loss: 0.3762 - val_accuracy: 0.8907 - lr: 0.0100\n",
      "Epoch 4/100\n",
      "191/191 [==============================] - 1s 7ms/step - loss: 0.3723 - accuracy: 0.8836 - val_loss: 0.2982 - val_accuracy: 0.9212 - lr: 0.0100\n",
      "Epoch 5/100\n",
      "191/191 [==============================] - 2s 9ms/step - loss: 0.3252 - accuracy: 0.8978 - val_loss: 0.2563 - val_accuracy: 0.9276 - lr: 0.0100\n",
      "Epoch 6/100\n",
      "191/191 [==============================] - 1s 6ms/step - loss: 0.2941 - accuracy: 0.9127 - val_loss: 0.2271 - val_accuracy: 0.9325 - lr: 0.0100\n",
      "Epoch 7/100\n",
      "191/191 [==============================] - 1s 8ms/step - loss: 0.2720 - accuracy: 0.9250 - val_loss: 0.2098 - val_accuracy: 0.9429 - lr: 0.0100\n",
      "Epoch 8/100\n",
      "191/191 [==============================] - 1s 6ms/step - loss: 0.2413 - accuracy: 0.9339 - val_loss: 0.1938 - val_accuracy: 0.9463 - lr: 0.0100\n",
      "Epoch 9/100\n",
      "191/191 [==============================] - 1s 7ms/step - loss: 0.2309 - accuracy: 0.9388 - val_loss: 0.1838 - val_accuracy: 0.9488 - lr: 0.0100\n",
      "Epoch 10/100\n",
      "191/191 [==============================] - 1s 6ms/step - loss: 0.2203 - accuracy: 0.9429 - val_loss: 0.1775 - val_accuracy: 0.9493 - lr: 0.0100\n",
      "Epoch 11/100\n",
      "191/191 [==============================] - 2s 8ms/step - loss: 0.2030 - accuracy: 0.9455 - val_loss: 0.1680 - val_accuracy: 0.9537 - lr: 0.0100\n",
      "Epoch 12/100\n",
      "191/191 [==============================] - 1s 6ms/step - loss: 0.2028 - accuracy: 0.9475 - val_loss: 0.1621 - val_accuracy: 0.9537 - lr: 0.0100\n",
      "Epoch 13/100\n",
      "191/191 [==============================] - 1s 6ms/step - loss: 0.1953 - accuracy: 0.9470 - val_loss: 0.1539 - val_accuracy: 0.9581 - lr: 0.0100\n",
      "Epoch 14/100\n",
      "191/191 [==============================] - 1s 6ms/step - loss: 0.1881 - accuracy: 0.9506 - val_loss: 0.1478 - val_accuracy: 0.9577 - lr: 0.0100\n",
      "Epoch 15/100\n",
      "191/191 [==============================] - 1s 7ms/step - loss: 0.1791 - accuracy: 0.9511 - val_loss: 0.1406 - val_accuracy: 0.9611 - lr: 0.0100\n",
      "Epoch 16/100\n",
      "191/191 [==============================] - 1s 5ms/step - loss: 0.1677 - accuracy: 0.9572 - val_loss: 0.1374 - val_accuracy: 0.9581 - lr: 0.0100\n",
      "Epoch 17/100\n",
      "191/191 [==============================] - 1s 5ms/step - loss: 0.1641 - accuracy: 0.9542 - val_loss: 0.1307 - val_accuracy: 0.9641 - lr: 0.0100\n",
      "Epoch 18/100\n",
      "191/191 [==============================] - 1s 6ms/step - loss: 0.1538 - accuracy: 0.9550 - val_loss: 0.1211 - val_accuracy: 0.9636 - lr: 0.0100\n",
      "Epoch 19/100\n",
      "191/191 [==============================] - 1s 6ms/step - loss: 0.1483 - accuracy: 0.9570 - val_loss: 0.1145 - val_accuracy: 0.9636 - lr: 0.0100\n",
      "Epoch 20/100\n",
      "191/191 [==============================] - 1s 6ms/step - loss: 0.1335 - accuracy: 0.9619 - val_loss: 0.1062 - val_accuracy: 0.9636 - lr: 0.0100\n",
      "Epoch 21/100\n",
      "191/191 [==============================] - 1s 7ms/step - loss: 0.1280 - accuracy: 0.9611 - val_loss: 0.0999 - val_accuracy: 0.9650 - lr: 0.0100\n",
      "Epoch 22/100\n",
      "191/191 [==============================] - 1s 6ms/step - loss: 0.1216 - accuracy: 0.9596 - val_loss: 0.0934 - val_accuracy: 0.9665 - lr: 0.0100\n",
      "Epoch 23/100\n",
      "191/191 [==============================] - 1s 6ms/step - loss: 0.1153 - accuracy: 0.9639 - val_loss: 0.0850 - val_accuracy: 0.9665 - lr: 0.0100\n",
      "Epoch 24/100\n",
      "191/191 [==============================] - 1s 3ms/step - loss: 0.1040 - accuracy: 0.9632 - val_loss: 0.0789 - val_accuracy: 0.9675 - lr: 0.0100\n",
      "Epoch 25/100\n",
      "191/191 [==============================] - 1s 3ms/step - loss: 0.1022 - accuracy: 0.9662 - val_loss: 0.0711 - val_accuracy: 0.9675 - lr: 0.0100\n",
      "Epoch 26/100\n",
      "191/191 [==============================] - 1s 3ms/step - loss: 0.0932 - accuracy: 0.9678 - val_loss: 0.0649 - val_accuracy: 0.9680 - lr: 0.0100\n",
      "Epoch 27/100\n",
      "191/191 [==============================] - 1s 3ms/step - loss: 0.0913 - accuracy: 0.9703 - val_loss: 0.0569 - val_accuracy: 0.9764 - lr: 0.0100\n",
      "Epoch 28/100\n",
      "191/191 [==============================] - 1s 3ms/step - loss: 0.0853 - accuracy: 0.9721 - val_loss: 0.0526 - val_accuracy: 0.9833 - lr: 0.0100\n",
      "Epoch 29/100\n",
      "191/191 [==============================] - 1s 3ms/step - loss: 0.0756 - accuracy: 0.9782 - val_loss: 0.0453 - val_accuracy: 0.9857 - lr: 0.0100\n",
      "Epoch 30/100\n",
      "191/191 [==============================] - 1s 3ms/step - loss: 0.0731 - accuracy: 0.9764 - val_loss: 0.0423 - val_accuracy: 0.9867 - lr: 0.0100\n",
      "Epoch 31/100\n",
      "191/191 [==============================] - 1s 3ms/step - loss: 0.0639 - accuracy: 0.9800 - val_loss: 0.0372 - val_accuracy: 0.9887 - lr: 0.0100\n",
      "Epoch 32/100\n",
      "191/191 [==============================] - 1s 3ms/step - loss: 0.0662 - accuracy: 0.9785 - val_loss: 0.0334 - val_accuracy: 0.9897 - lr: 0.0100\n",
      "Epoch 33/100\n",
      "191/191 [==============================] - 1s 3ms/step - loss: 0.0545 - accuracy: 0.9844 - val_loss: 0.0284 - val_accuracy: 0.9946 - lr: 0.0100\n",
      "Epoch 34/100\n",
      "191/191 [==============================] - 1s 3ms/step - loss: 0.0575 - accuracy: 0.9823 - val_loss: 0.0252 - val_accuracy: 0.9921 - lr: 0.0100\n",
      "Epoch 35/100\n",
      "191/191 [==============================] - 1s 3ms/step - loss: 0.0543 - accuracy: 0.9836 - val_loss: 0.0227 - val_accuracy: 0.9956 - lr: 0.0100\n",
      "Epoch 36/100\n",
      "191/191 [==============================] - 1s 3ms/step - loss: 0.0494 - accuracy: 0.9851 - val_loss: 0.0211 - val_accuracy: 0.9961 - lr: 0.0100\n",
      "Epoch 37/100\n",
      "191/191 [==============================] - 1s 3ms/step - loss: 0.0453 - accuracy: 0.9870 - val_loss: 0.0198 - val_accuracy: 0.9946 - lr: 0.0100\n",
      "Epoch 38/100\n",
      "191/191 [==============================] - 1s 3ms/step - loss: 0.0426 - accuracy: 0.9887 - val_loss: 0.0198 - val_accuracy: 0.9941 - lr: 0.0100\n",
      "Epoch 39/100\n",
      "191/191 [==============================] - 1s 3ms/step - loss: 0.0430 - accuracy: 0.9879 - val_loss: 0.0158 - val_accuracy: 0.9985 - lr: 0.0100\n",
      "Epoch 40/100\n",
      "191/191 [==============================] - 1s 3ms/step - loss: 0.0390 - accuracy: 0.9888 - val_loss: 0.0140 - val_accuracy: 0.9985 - lr: 0.0100\n",
      "Epoch 41/100\n",
      "191/191 [==============================] - 1s 3ms/step - loss: 0.0367 - accuracy: 0.9900 - val_loss: 0.0134 - val_accuracy: 0.9980 - lr: 0.0100\n",
      "Epoch 42/100\n",
      "191/191 [==============================] - 1s 3ms/step - loss: 0.0375 - accuracy: 0.9893 - val_loss: 0.0122 - val_accuracy: 0.9990 - lr: 0.0100\n",
      "Epoch 43/100\n",
      "191/191 [==============================] - 1s 3ms/step - loss: 0.0358 - accuracy: 0.9900 - val_loss: 0.0129 - val_accuracy: 0.9985 - lr: 0.0100\n",
      "Epoch 44/100\n",
      "191/191 [==============================] - 1s 3ms/step - loss: 0.0338 - accuracy: 0.9903 - val_loss: 0.0107 - val_accuracy: 0.9990 - lr: 0.0100\n",
      "Epoch 45/100\n",
      "191/191 [==============================] - 1s 3ms/step - loss: 0.0298 - accuracy: 0.9929 - val_loss: 0.0098 - val_accuracy: 0.9995 - lr: 0.0100\n",
      "Epoch 46/100\n",
      "191/191 [==============================] - 1s 3ms/step - loss: 0.0295 - accuracy: 0.9921 - val_loss: 0.0092 - val_accuracy: 0.9990 - lr: 0.0100\n",
      "Epoch 47/100\n",
      "191/191 [==============================] - 1s 3ms/step - loss: 0.0279 - accuracy: 0.9933 - val_loss: 0.0084 - val_accuracy: 1.0000 - lr: 0.0100\n",
      "Epoch 48/100\n",
      "191/191 [==============================] - 1s 3ms/step - loss: 0.0272 - accuracy: 0.9929 - val_loss: 0.0080 - val_accuracy: 0.9995 - lr: 0.0100\n",
      "Epoch 49/100\n",
      "191/191 [==============================] - 1s 3ms/step - loss: 0.0257 - accuracy: 0.9936 - val_loss: 0.0075 - val_accuracy: 1.0000 - lr: 0.0100\n",
      "Epoch 50/100\n",
      "191/191 [==============================] - 1s 3ms/step - loss: 0.0272 - accuracy: 0.9925 - val_loss: 0.0072 - val_accuracy: 1.0000 - lr: 0.0100\n",
      "Epoch 51/100\n",
      "191/191 [==============================] - 1s 3ms/step - loss: 0.0258 - accuracy: 0.9926 - val_loss: 0.0064 - val_accuracy: 0.9995 - lr: 0.0100\n",
      "Epoch 52/100\n",
      "191/191 [==============================] - 1s 3ms/step - loss: 0.0211 - accuracy: 0.9951 - val_loss: 0.0071 - val_accuracy: 0.9985 - lr: 0.0100\n",
      "Epoch 53/100\n",
      "191/191 [==============================] - 1s 3ms/step - loss: 0.0267 - accuracy: 0.9925 - val_loss: 0.0058 - val_accuracy: 0.9995 - lr: 0.0100\n",
      "Epoch 54/100\n",
      "191/191 [==============================] - 1s 3ms/step - loss: 0.0215 - accuracy: 0.9938 - val_loss: 0.0059 - val_accuracy: 0.9995 - lr: 0.0100\n",
      "Epoch 55/100\n",
      "191/191 [==============================] - 1s 3ms/step - loss: 0.0209 - accuracy: 0.9949 - val_loss: 0.0050 - val_accuracy: 1.0000 - lr: 0.0100\n",
      "Epoch 56/100\n",
      "191/191 [==============================] - 1s 3ms/step - loss: 0.0206 - accuracy: 0.9957 - val_loss: 0.0076 - val_accuracy: 0.9970 - lr: 0.0100\n",
      "Epoch 57/100\n",
      "191/191 [==============================] - 1s 3ms/step - loss: 0.0183 - accuracy: 0.9959 - val_loss: 0.0049 - val_accuracy: 1.0000 - lr: 0.0100\n",
      "Epoch 58/100\n",
      "191/191 [==============================] - 1s 3ms/step - loss: 0.0191 - accuracy: 0.9946 - val_loss: 0.0046 - val_accuracy: 1.0000 - lr: 1.0000e-03\n",
      "Epoch 59/100\n",
      "191/191 [==============================] - 1s 3ms/step - loss: 0.0183 - accuracy: 0.9947 - val_loss: 0.0044 - val_accuracy: 1.0000 - lr: 1.0000e-03\n",
      "Epoch 60/100\n",
      "191/191 [==============================] - 1s 3ms/step - loss: 0.0216 - accuracy: 0.9939 - val_loss: 0.0044 - val_accuracy: 1.0000 - lr: 1.0000e-03\n",
      "Epoch 61/100\n",
      "191/191 [==============================] - 1s 3ms/step - loss: 0.0205 - accuracy: 0.9946 - val_loss: 0.0044 - val_accuracy: 1.0000 - lr: 1.0000e-03\n",
      "Epoch 62/100\n",
      "191/191 [==============================] - 1s 3ms/step - loss: 0.0170 - accuracy: 0.9961 - val_loss: 0.0044 - val_accuracy: 1.0000 - lr: 1.0000e-04\n",
      "Epoch 63/100\n",
      "191/191 [==============================] - 1s 3ms/step - loss: 0.0187 - accuracy: 0.9947 - val_loss: 0.0044 - val_accuracy: 1.0000 - lr: 1.0000e-04\n",
      "Epoch 64/100\n",
      "191/191 [==============================] - 1s 3ms/step - loss: 0.0203 - accuracy: 0.9954 - val_loss: 0.0044 - val_accuracy: 1.0000 - lr: 1.0000e-05\n"
     ]
    }
   ],
   "source": [
    "# number of training passes\n",
    "epoch = 100\n",
    "\n",
    "# Stop training when a val_loss metric stops improving.\n",
    "early_stop = tf.keras.callbacks.EarlyStopping(monitor='val_loss', patience=4)\n",
    "\n",
    "# Reduce learning rate when val_loss stops improving.\n",
    "reduce_lr = tf.keras.callbacks.ReduceLROnPlateau(\n",
    "    monitor='val_loss', factor=0.1, patience=2, min_lr=0.00001, mode='auto'\n",
    ")\n",
    "\n",
    "# Configures and start the model for training.\n",
    "history = model.fit(\n",
    "    X_train,\n",
    "    y_train,\n",
    "    epochs=epoch,\n",
    "    validation_data=(X_test, y_test),\n",
    "    callbacks=[early_stop, reduce_lr],\n",
    "    verbose=1\n",
    ")"
   ]
  },
  {
   "cell_type": "code",
   "execution_count": 32,
   "metadata": {
    "colab": {
     "base_uri": "https://localhost:8080/"
    },
    "execution": {
     "iopub.execute_input": "2022-06-25T12:01:29.111904Z",
     "iopub.status.busy": "2022-06-25T12:01:29.111454Z",
     "iopub.status.idle": "2022-06-25T12:01:29.119877Z",
     "shell.execute_reply": "2022-06-25T12:01:29.118696Z",
     "shell.execute_reply.started": "2022-06-25T12:01:29.111861Z"
    },
    "id": "IklGZIKNvK3g",
    "outputId": "e223d6af-e051-4d5b-a60a-fdf2ffdfa502"
   },
   "outputs": [
    {
     "data": {
      "text/plain": [
       "dict_keys(['loss', 'accuracy', 'val_loss', 'val_accuracy', 'lr'])"
      ]
     },
     "execution_count": 32,
     "metadata": {},
     "output_type": "execute_result"
    }
   ],
   "source": [
    "# Training metrics of the model\n",
    "history.history.keys()"
   ]
  },
  {
   "cell_type": "code",
   "execution_count": 33,
   "metadata": {
    "colab": {
     "base_uri": "https://localhost:8080/",
     "height": 590
    },
    "execution": {
     "iopub.execute_input": "2022-06-25T12:01:29.122510Z",
     "iopub.status.busy": "2022-06-25T12:01:29.121444Z",
     "iopub.status.idle": "2022-06-25T12:01:29.559924Z",
     "shell.execute_reply": "2022-06-25T12:01:29.558704Z",
     "shell.execute_reply.started": "2022-06-25T12:01:29.122474Z"
    },
    "id": "me0pLHnWwOZ8",
    "outputId": "7c02dfa4-3e78-465f-f3d0-16eb52eb40ec"
   },
   "outputs": [
    {
     "data": {
      "image/png": "[encoded data removed]",
      "text/plain": [
       "<Figure size 432x288 with 1 Axes>"
      ]
     },
     "metadata": {
      "needs_background": "light"
     },
     "output_type": "display_data"
    },
    {
     "name": "stdout",
     "output_type": "stream",
     "text": [
      "\n"
     ]
    },
    {
     "data": {
      "image/png": "[encoded data removed]",
      "text/plain": [
       "<Figure size 432x288 with 1 Axes>"
      ]
     },
     "metadata": {
      "needs_background": "light"
     },
     "output_type": "display_data"
    }
   ],
   "source": [
    "# Make sure the model is not overfitting or underfitting.\n",
    "\n",
    "# summarize history for accuracy\n",
    "plt.plot(history.history['accuracy'], marker='.',\n",
    "         linestyle='dashed', color='red'\n",
    "         )\n",
    "plt.plot(history.history['val_accuracy'], marker='.',\n",
    "         linestyle='dashed', color='blue'\n",
    "         )\n",
    "plt.title('Model Accuracy')\n",
    "plt.ylabel('Accuracy')\n",
    "plt.xlabel('Epoch')\n",
    "plt.legend(['train', 'validation'], loc='lower right')\n",
    "plt.show()\n",
    "\n",
    "print()\n",
    "\n",
    "# summarize history for loss\n",
    "plt.plot(history.history['loss'], marker='.', linestyle='dashed', color='red')\n",
    "plt.plot(history.history['val_loss'], marker='.',\n",
    "         linestyle='dashed', color='blue'\n",
    "         )\n",
    "plt.title('Model Loss')\n",
    "plt.ylabel('Loss')\n",
    "plt.xlabel('Epoch')\n",
    "plt.legend(['train', 'validation'], loc='upper right')\n",
    "plt.show()"
   ]
  },
  {
   "cell_type": "code",
   "execution_count": 34,
   "metadata": {
    "colab": {
     "base_uri": "https://localhost:8080/"
    },
    "execution": {
     "iopub.execute_input": "2022-06-25T12:01:29.562081Z",
     "iopub.status.busy": "2022-06-25T12:01:29.561715Z",
     "iopub.status.idle": "2022-06-25T12:01:29.720237Z",
     "shell.execute_reply": "2022-06-25T12:01:29.719103Z",
     "shell.execute_reply.started": "2022-06-25T12:01:29.562050Z"
    },
    "id": "Jn7r23FbwQFr",
    "outputId": "4cf9787c-dc96-46e1-d0c8-8384d0bd34c7"
   },
   "outputs": [
    {
     "name": "stdout",
     "output_type": "stream",
     "text": [
      "64/64 [==============================] - 0s 2ms/step - loss: 0.0044 - accuracy: 1.0000\n"
     ]
    }
   ],
   "source": [
    "# evaluate the trained model with test data\n",
    "test_loss, test_acc = model.evaluate(X_test, y_test)"
   ]
  },
  {
   "cell_type": "code",
   "execution_count": 35,
   "metadata": {
    "colab": {
     "base_uri": "https://localhost:8080/"
    },
    "execution": {
     "iopub.execute_input": "2022-06-25T12:01:29.723758Z",
     "iopub.status.busy": "2022-06-25T12:01:29.723046Z",
     "iopub.status.idle": "2022-06-25T12:01:29.731188Z",
     "shell.execute_reply": "2022-06-25T12:01:29.730185Z",
     "shell.execute_reply.started": "2022-06-25T12:01:29.723689Z"
    },
    "id": "YgPJXaZRwerE",
    "outputId": "e4f06bec-31ce-4b96-ab1d-0ca09d5d5de1"
   },
   "outputs": [
    {
     "data": {
      "text/plain": [
       "(0.0043965610675513744, 100.0)"
      ]
     },
     "execution_count": 35,
     "metadata": {},
     "output_type": "execute_result"
    }
   ],
   "source": [
    "# print test-loss and test-accuracy\n",
    "test_loss, test_acc * 100"
   ]
  },
  {
   "cell_type": "code",
   "execution_count": 36,
   "metadata": {
    "execution": {
     "iopub.execute_input": "2022-06-25T12:01:29.733873Z",
     "iopub.status.busy": "2022-06-25T12:01:29.732705Z",
     "iopub.status.idle": "2022-06-25T12:01:29.939815Z",
     "shell.execute_reply": "2022-06-25T12:01:29.938711Z",
     "shell.execute_reply.started": "2022-06-25T12:01:29.733828Z"
    },
    "id": "4fdmo9xBwhea"
   },
   "outputs": [],
   "source": [
    "# predict for all the testing samples\n",
    "pred = model.predict(X_test) > 0.5"
   ]
  },
  {
   "cell_type": "code",
   "execution_count": 37,
   "metadata": {
    "colab": {
     "base_uri": "https://localhost:8080/",
     "height": 574
    },
    "execution": {
     "iopub.execute_input": "2022-06-25T12:01:29.941562Z",
     "iopub.status.busy": "2022-06-25T12:01:29.941226Z",
     "iopub.status.idle": "2022-06-25T12:01:30.167798Z",
     "shell.execute_reply": "2022-06-25T12:01:30.166765Z",
     "shell.execute_reply.started": "2022-06-25T12:01:29.941532Z"
    },
    "id": "HK_p_ohrwkYD",
    "outputId": "aab93f0d-bb20-4077-b0c5-702e9b9fd9c9"
   },
   "outputs": [
    {
     "name": "stdout",
     "output_type": "stream",
     "text": [
      "Logistic Regression Accuracy: \n",
      "100.0\n",
      "\n",
      "Test loss: \n",
      "0.0044\n",
      "\n",
      "Classification Report: \n",
      "              precision    recall  f1-score   support\n",
      "\n",
      "           0       1.00      1.00      1.00      1040\n",
      "           1       1.00      1.00      1.00       991\n",
      "\n",
      "    accuracy                           1.00      2031\n",
      "   macro avg       1.00      1.00      1.00      2031\n",
      "weighted avg       1.00      1.00      1.00      2031\n",
      "\n",
      "Confusion Matrix:\n"
     ]
    },
    {
     "data": {
      "image/png": "[encoded data removed]",
      "text/plain": [
       "<Figure size 432x288 with 2 Axes>"
      ]
     },
     "metadata": {
      "needs_background": "light"
     },
     "output_type": "display_data"
    }
   ],
   "source": [
    "# Predict and evaluate the ANN model on the test data\n",
    "acc_ann = round(test_acc * 100, 2)\n",
    "print(f\"Logistic Regression Accuracy: \\n{acc_ann}\\n\")\n",
    "\n",
    "loss_ann = round(test_loss, 4)\n",
    "print(f\"Test loss: \\n{loss_ann}\\n\")\n",
    "\n",
    "cr_ann = classification_report(y_test, pred)\n",
    "print(f\"Classification Report: \\n{cr_ann}\")\n",
    "cr_ann = classification_report(y_test, pred, output_dict=True)\n",
    "\n",
    "print(\"Confusion Matrix:\")\n",
    "cm_ann = confusion_matrix(y_test, pred)\n",
    "disp_ann = ConfusionMatrixDisplay(\n",
    "    confusion_matrix=cm_ann, display_labels=lr.classes_\n",
    ")\n",
    "disp_ann.plot()\n",
    "plt.show()"
   ]
  },
  {
   "cell_type": "markdown",
   "metadata": {
    "id": "X1BpSofD0auV"
   },
   "source": [
    "## Summary Report"
   ]
  },
  {
   "cell_type": "code",
   "execution_count": 38,
   "metadata": {
    "colab": {
     "base_uri": "https://localhost:8080/",
     "height": 401
    },
    "execution": {
     "iopub.execute_input": "2022-06-25T12:01:30.169303Z",
     "iopub.status.busy": "2022-06-25T12:01:30.169001Z",
     "iopub.status.idle": "2022-06-25T12:01:31.010660Z",
     "shell.execute_reply": "2022-06-25T12:01:31.009859Z",
     "shell.execute_reply.started": "2022-06-25T12:01:30.169275Z"
    },
    "id": "Ppoxm-bzeaDW",
    "outputId": "8aaab93f-373d-4a00-c775-5a3545216ab3"
   },
   "outputs": [
    {
     "data": {
      "image/png": "[encoded data removed]",
      "text/plain": [
       "<Figure size 432x288 with 1 Axes>"
      ]
     },
     "metadata": {
      "needs_background": "light"
     },
     "output_type": "display_data"
    }
   ],
   "source": [
    "fig, ax = plt.subplots(1, 1)\n",
    "ax.axis('tight')\n",
    "ax.axis('off')\n",
    "\n",
    "# Table column names\n",
    "column_names = (\n",
    "    'Gaussian Naive Bayes', 'Logistic Regression', 'Support Vector Classification', 'Random Forest', 'Artificial Neural Network'\n",
    ")\n",
    "\n",
    "# Table row names\n",
    "index_name = (\n",
    "    'Accuracy', 'Confusion Matrix', 'Precision', 'Recall', 'F1-Score', 'Support'\n",
    ")\n",
    "\n",
    "# Table data\n",
    "metrics = np.array([\n",
    "    [acc_gnb, acc_lr, acc_svc, acc_rf, acc_ann],\n",
    "    [str(cm_gnb), str(cm_lr), str(cm_svc), str(cm_rf), str(cm_ann)],\n",
    "    [\n",
    "        cr_gnb['macro avg']['precision'], cr_lr['macro avg']['precision'],\n",
    "        cr_svc['macro avg']['precision'], cr_rf['macro avg']['precision'], cr_ann['macro avg']['precision']\n",
    "    ],\n",
    "    [\n",
    "        cr_gnb['macro avg']['recall'], cr_lr['macro avg']['recall'],\n",
    "        cr_svc['macro avg']['recall'], cr_rf['macro avg']['recall'], cr_ann['macro avg']['recall']\n",
    "    ],\n",
    "    [\n",
    "        cr_gnb['macro avg']['f1-score'], cr_lr['macro avg']['f1-score'],\n",
    "        cr_svc['macro avg']['f1-score'], cr_rf['macro avg']['f1-score'], cr_ann['macro avg']['f1-score']\n",
    "    ],\n",
    "    [\n",
    "        cr_gnb['macro avg']['support'], cr_lr['macro avg']['support'],\n",
    "        cr_svc['macro avg']['support'], cr_rf['macro avg']['support'], cr_ann['macro avg']['support']\n",
    "    ]\n",
    "])\n",
    "\n",
    "# Plot table\n",
    "summary_table = ax.table(\n",
    "    cellText=metrics,\n",
    "    colLabels=column_names,\n",
    "    rowLabels=index_name,\n",
    "    rowColours=[\"#A0E7E5\"] * len(index_name),\n",
    "    colColours=[\"#A0E7E5\"] * len(column_names),\n",
    "    loc=\"center\"\n",
    ")\n",
    "\n",
    "# Set text bold for column and row header and column 4 (ANN)\n",
    "for (r, c), cell in summary_table.get_celld().items():\n",
    "    if r == 0 or c == -1:\n",
    "        cell.set_text_props(fontproperties=fm.FontProperties(weight='bold'))\n",
    "\n",
    "    # Gaussian NB\n",
    "    if r != 0 and c == 0:\n",
    "        cell.set_text_props(fontproperties=fm.FontProperties(weight='bold'))\n",
    "        summary_table[(r, c)].set_facecolor(\"#FFAEBC\")\n",
    "\n",
    "    # ANN Column\n",
    "    if r != 0 and c == 4:\n",
    "        cell.set_text_props(fontproperties=fm.FontProperties(weight='bold'))\n",
    "        summary_table[(r, c)].set_facecolor(\"#B4F8C8\")\n",
    "\n",
    "# Set font and table size\n",
    "summary_table.set_fontsize(28)\n",
    "summary_table.scale(4, 6)\n",
    "plt.show()"
   ]
  },
  {
   "cell_type": "code",
   "execution_count": 38,
   "metadata": {
    "id": "5SXjr0m0w8dr"
   },
   "outputs": [],
   "source": []
  }
 ],
 "metadata": {
  "colab": {
   "collapsed_sections": [],
   "name": "mushroom-classification.ipynb",
   "provenance": [],
   "toc_visible": true
  },
  "kernelspec": {
   "display_name": "Python 3 (ipykernel)",
   "language": "python",
   "name": "python3"
  },
  "language_info": {
   "codemirror_mode": {
    "name": "ipython",
    "version": 3
   },
   "file_extension": ".py",
   "mimetype": "text/x-python",
   "name": "python",
   "nbconvert_exporter": "python",
   "pygments_lexer": "ipython3",
   "version": "3.9.7"
  }
 },
 "nbformat": 4,
 "nbformat_minor": 1
}
